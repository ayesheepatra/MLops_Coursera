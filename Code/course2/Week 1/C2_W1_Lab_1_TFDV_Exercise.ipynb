{
 "cells": [
  {
   "cell_type": "markdown",
   "metadata": {
    "id": "2V_OLlgtQ0DW"
   },
   "source": [
    "# Ungraded Lab: TFDV Exercise\n",
    "\n",
    "\n",
    "In this notebook, you will get to practice using [TensorFlow Data Validation (TFDV)](https://cloud.google.com/solutions/machine-learning/analyzing-and-validating-data-at-scale-for-ml-using-tfx), an open-source Python package from the [TensorFlow Extended (TFX)](https://www.tensorflow.org/tfx) ecosystem. \n",
    "\n",
    "TFDV helps to understand, validate, and monitor production machine learning data at scale. It provides insight into some key questions in the data analysis process such as:\n",
    "\n",
    "* What are the underlying statistics of my data?\n",
    "\n",
    "* What does my training dataset look like?\n",
    "\n",
    "* How does my evaluation and serving datasets compare to the training dataset?\n",
    "\n",
    "* How can I find and fix data anomalies?\n",
    "\n",
    "The figure below summarizes the usual TFDV workflow:\n",
    "\n",
    "<img src='img/tfdv.png' alt='picture of tfdv workflow'>\n",
    "\n",
    "As shown, you can use TFDV to compute descriptive statistics of the training data and generate a schema. You can then validate new datasets (e.g. the serving dataset from your customers) against this schema to detect and fix anomalies. This helps prevent the different types of skew. That way, you can be confident that your model is training on or predicting data that is consistent with the expected feature types and distribution.\n",
    "\n",
    "This ungraded exercise demonstrates useful functions of TFDV at an introductory level as preparation for this week's graded programming exercise. Specifically, you will:\n",
    "\n",
    "- **Generate and visualize statistics from a dataset**\n",
    "- **Detect and fix anomalies in an evaluation dataset**\n",
    "\n",
    "Let's begin!"
   ]
  },
  {
   "cell_type": "markdown",
   "metadata": {
    "id": "lyGr4CC8AUfu"
   },
   "source": [
    "## Package Installation and Imports"
   ]
  },
  {
   "cell_type": "code",
   "execution_count": 26,
   "metadata": {
    "id": "GHi-tkOeBOis"
   },
   "outputs": [
    {
     "name": "stdout",
     "output_type": "stream",
     "text": [
      "TFDV Version: 1.5.0\n",
      "Tensorflow Version: 2.6.0\n"
     ]
    }
   ],
   "source": [
    "import tensorflow as tf\n",
    "import tensorflow_data_validation as tfdv\n",
    "import pandas as pd\n",
    "\n",
    "from sklearn.model_selection import train_test_split\n",
    "from util import add_extra_rows\n",
    "\n",
    "from tensorflow_metadata.proto.v0 import schema_pb2\n",
    "\n",
    "print('TFDV Version: {}'.format(tfdv.__version__))\n",
    "print('Tensorflow Version: {}'.format(tf.__version__))"
   ]
  },
  {
   "cell_type": "code",
   "execution_count": null,
   "metadata": {},
   "outputs": [],
   "source": []
  },
  {
   "cell_type": "markdown",
   "metadata": {
    "id": "Kzt9rO9eAGF-"
   },
   "source": [
    "## Download the dataset\n",
    "\n",
    "You will be working with the [Census Income Dataset](http://archive.ics.uci.edu/ml/datasets/Census+Income), a dataset that can be used to predict if an individual earns more than or less than 50k US Dollars annually. The summary of attribute names with descriptions/expected values is shown below and you can read more about it [in this data description file.](https://archive.ics.uci.edu/ml/machine-learning-databases/adult/adult.names)\n",
    "\n",
    "\n",
    "* **age**: continuous.\n",
    "* **workclass**: Private, Self-emp-not-inc, Self-emp-inc, Federal-gov, Local-gov, State-gov, Without-pay, Never-worked.\n",
    "* **fnlwgt**: continuous.\n",
    "* **education**: Bachelors, Some-college, 11th, HS-grad, Prof-school, Assoc-acdm, Assoc-voc, 9th, 7th-8th, 12th, Masters, 1st-4th, 10th, Doctorate, 5th-6th, Preschool.\n",
    "* **education-num**: continuous.\n",
    "* **marital-status**: Married-civ-spouse, Divorced, Never-married, Separated, Widowed, Married-spouse-absent, Married-AF-spouse.\n",
    "* **occupation**: Tech-support, Craft-repair, Other-service, Sales, Exec-managerial, Prof-specialty, Handlers-cleaners, Machine-op-inspct, Adm-clerical, Farming-fishing, Transport-moving, Priv-house-serv, Protective-serv, Armed-Forces.\n",
    "* **relationship**: Wife, Own-child, Husband, Not-in-family, Other-relative, Unmarried.\n",
    "* **race**: White, Asian-Pac-Islander, Amer-Indian-Eskimo, Other, Black.\n",
    "* **sex**: Female, Male.\n",
    "* **capital-gain**: continuous.\n",
    "* **capital-loss**: continuous.\n",
    "* **hours-per-week**: continuous.\n",
    "* **native-country**: United-States, Cambodia, England, Puerto-Rico, Canada, Germany, Outlying-US(Guam-USVI-etc), India, Japan, Greece, South, China, Cuba, Iran, Honduras, Philippines, Italy, Poland, Jamaica, Vietnam, Mexico, Portugal, Ireland, France, Dominican-Republic, Laos, Ecuador, Taiwan, Haiti, Columbia, Hungary, Guatemala, Nicaragua, Scotland, Thailand, Yugoslavia, El-Salvador, Trinadad&Tobago, Peru, Hong, Holand-Netherlands.\n",
    "\n",
    "Let's load the dataset and split it into training and evaluation sets. We will not shuffle them for consistent results in this demo notebook but you should otherwise in real projects."
   ]
  },
  {
   "cell_type": "code",
   "execution_count": 48,
   "metadata": {},
   "outputs": [
    {
     "data": {
      "text/html": [
       "<div>\n",
       "<style scoped>\n",
       "    .dataframe tbody tr th:only-of-type {\n",
       "        vertical-align: middle;\n",
       "    }\n",
       "\n",
       "    .dataframe tbody tr th {\n",
       "        vertical-align: top;\n",
       "    }\n",
       "\n",
       "    .dataframe thead th {\n",
       "        text-align: right;\n",
       "    }\n",
       "</style>\n",
       "<table border=\"1\" class=\"dataframe\">\n",
       "  <thead>\n",
       "    <tr style=\"text-align: right;\">\n",
       "      <th></th>\n",
       "      <th>age</th>\n",
       "      <th>workclass</th>\n",
       "      <th>fnlwgt</th>\n",
       "      <th>education</th>\n",
       "      <th>educational-num</th>\n",
       "      <th>marital-status</th>\n",
       "      <th>occupation</th>\n",
       "      <th>relationship</th>\n",
       "      <th>race</th>\n",
       "      <th>gender</th>\n",
       "      <th>capital-gain</th>\n",
       "      <th>capital-loss</th>\n",
       "      <th>hours-per-week</th>\n",
       "      <th>native-country</th>\n",
       "      <th>income</th>\n",
       "    </tr>\n",
       "  </thead>\n",
       "  <tbody>\n",
       "    <tr>\n",
       "      <th>0</th>\n",
       "      <td>25</td>\n",
       "      <td>Private</td>\n",
       "      <td>226802</td>\n",
       "      <td>11th</td>\n",
       "      <td>7</td>\n",
       "      <td>Never-married</td>\n",
       "      <td>Machine-op-inspct</td>\n",
       "      <td>Own-child</td>\n",
       "      <td>Black</td>\n",
       "      <td>Male</td>\n",
       "      <td>0</td>\n",
       "      <td>0</td>\n",
       "      <td>40</td>\n",
       "      <td>United-States</td>\n",
       "      <td>&lt;=50K</td>\n",
       "    </tr>\n",
       "    <tr>\n",
       "      <th>1</th>\n",
       "      <td>38</td>\n",
       "      <td>Private</td>\n",
       "      <td>89814</td>\n",
       "      <td>HS-grad</td>\n",
       "      <td>9</td>\n",
       "      <td>Married-civ-spouse</td>\n",
       "      <td>Farming-fishing</td>\n",
       "      <td>Husband</td>\n",
       "      <td>White</td>\n",
       "      <td>Male</td>\n",
       "      <td>0</td>\n",
       "      <td>0</td>\n",
       "      <td>50</td>\n",
       "      <td>United-States</td>\n",
       "      <td>&lt;=50K</td>\n",
       "    </tr>\n",
       "    <tr>\n",
       "      <th>2</th>\n",
       "      <td>28</td>\n",
       "      <td>Local-gov</td>\n",
       "      <td>336951</td>\n",
       "      <td>Assoc-acdm</td>\n",
       "      <td>12</td>\n",
       "      <td>Married-civ-spouse</td>\n",
       "      <td>Protective-serv</td>\n",
       "      <td>Husband</td>\n",
       "      <td>White</td>\n",
       "      <td>Male</td>\n",
       "      <td>0</td>\n",
       "      <td>0</td>\n",
       "      <td>40</td>\n",
       "      <td>United-States</td>\n",
       "      <td>&gt;50K</td>\n",
       "    </tr>\n",
       "    <tr>\n",
       "      <th>3</th>\n",
       "      <td>44</td>\n",
       "      <td>Private</td>\n",
       "      <td>160323</td>\n",
       "      <td>Some-college</td>\n",
       "      <td>10</td>\n",
       "      <td>Married-civ-spouse</td>\n",
       "      <td>Machine-op-inspct</td>\n",
       "      <td>Husband</td>\n",
       "      <td>Black</td>\n",
       "      <td>Male</td>\n",
       "      <td>7688</td>\n",
       "      <td>0</td>\n",
       "      <td>40</td>\n",
       "      <td>United-States</td>\n",
       "      <td>&gt;50K</td>\n",
       "    </tr>\n",
       "    <tr>\n",
       "      <th>4</th>\n",
       "      <td>18</td>\n",
       "      <td>?</td>\n",
       "      <td>103497</td>\n",
       "      <td>Some-college</td>\n",
       "      <td>10</td>\n",
       "      <td>Never-married</td>\n",
       "      <td>?</td>\n",
       "      <td>Own-child</td>\n",
       "      <td>White</td>\n",
       "      <td>Female</td>\n",
       "      <td>0</td>\n",
       "      <td>0</td>\n",
       "      <td>30</td>\n",
       "      <td>United-States</td>\n",
       "      <td>&lt;=50K</td>\n",
       "    </tr>\n",
       "  </tbody>\n",
       "</table>\n",
       "</div>"
      ],
      "text/plain": [
       "   age  workclass  fnlwgt     education  educational-num      marital-status  \\\n",
       "0   25    Private  226802          11th                7       Never-married   \n",
       "1   38    Private   89814       HS-grad                9  Married-civ-spouse   \n",
       "2   28  Local-gov  336951    Assoc-acdm               12  Married-civ-spouse   \n",
       "3   44    Private  160323  Some-college               10  Married-civ-spouse   \n",
       "4   18          ?  103497  Some-college               10       Never-married   \n",
       "\n",
       "          occupation relationship   race  gender  capital-gain  capital-loss  \\\n",
       "0  Machine-op-inspct    Own-child  Black    Male             0             0   \n",
       "1    Farming-fishing      Husband  White    Male             0             0   \n",
       "2    Protective-serv      Husband  White    Male             0             0   \n",
       "3  Machine-op-inspct      Husband  Black    Male          7688             0   \n",
       "4                  ?    Own-child  White  Female             0             0   \n",
       "\n",
       "   hours-per-week native-country income  \n",
       "0              40  United-States  <=50K  \n",
       "1              50  United-States  <=50K  \n",
       "2              40  United-States   >50K  \n",
       "3              40  United-States   >50K  \n",
       "4              30  United-States  <=50K  "
      ]
     },
     "execution_count": 48,
     "metadata": {},
     "output_type": "execute_result"
    }
   ],
   "source": [
    "\n",
    "df = pd.read_csv(\"data/adult.csv\")\n",
    "df.head()\n"
   ]
  },
  {
   "cell_type": "code",
   "execution_count": 49,
   "metadata": {
    "id": "WKTfuT2rga-_"
   },
   "outputs": [],
   "source": [
    "# Read in the training and evaluation datasets\n",
    "# df = pd.read_csv('data/adult.data', skipinitialspace=True)\n",
    "\n",
    "# Split the dataset. Do not shuffle for this demo notebook.\n",
    "train_df, eval_df = train_test_split(df, test_size=0.2, shuffle=False)"
   ]
  },
  {
   "cell_type": "code",
   "execution_count": 29,
   "metadata": {},
   "outputs": [
    {
     "data": {
      "text/plain": [
       "(48842, 39073, 9769)"
      ]
     },
     "execution_count": 29,
     "metadata": {},
     "output_type": "execute_result"
    }
   ],
   "source": [
    "len(df), len(train_df), len(eval_df)"
   ]
  },
  {
   "cell_type": "code",
   "execution_count": 50,
   "metadata": {},
   "outputs": [
    {
     "name": "stdout",
     "output_type": "stream",
     "text": [
      "((48842, 15), (39073, 15), (9769, 15))\n"
     ]
    }
   ],
   "source": [
    "print((df.shape, train_df.shape, eval_df.shape))"
   ]
  },
  {
   "cell_type": "markdown",
   "metadata": {
    "id": "0RQvgiMRq0pn"
   },
   "source": [
    "Let's see the first few columns of the train and eval sets."
   ]
  },
  {
   "cell_type": "code",
   "execution_count": 30,
   "metadata": {
    "id": "uxDFD6dR0PYH"
   },
   "outputs": [
    {
     "data": {
      "text/html": [
       "<div>\n",
       "<style scoped>\n",
       "    .dataframe tbody tr th:only-of-type {\n",
       "        vertical-align: middle;\n",
       "    }\n",
       "\n",
       "    .dataframe tbody tr th {\n",
       "        vertical-align: top;\n",
       "    }\n",
       "\n",
       "    .dataframe thead th {\n",
       "        text-align: right;\n",
       "    }\n",
       "</style>\n",
       "<table border=\"1\" class=\"dataframe\">\n",
       "  <thead>\n",
       "    <tr style=\"text-align: right;\">\n",
       "      <th></th>\n",
       "      <th>age</th>\n",
       "      <th>workclass</th>\n",
       "      <th>fnlwgt</th>\n",
       "      <th>education</th>\n",
       "      <th>educational-num</th>\n",
       "      <th>marital-status</th>\n",
       "      <th>occupation</th>\n",
       "      <th>relationship</th>\n",
       "      <th>race</th>\n",
       "      <th>gender</th>\n",
       "      <th>capital-gain</th>\n",
       "      <th>capital-loss</th>\n",
       "      <th>hours-per-week</th>\n",
       "      <th>native-country</th>\n",
       "      <th>income</th>\n",
       "    </tr>\n",
       "  </thead>\n",
       "  <tbody>\n",
       "    <tr>\n",
       "      <th>0</th>\n",
       "      <td>25</td>\n",
       "      <td>Private</td>\n",
       "      <td>226802</td>\n",
       "      <td>11th</td>\n",
       "      <td>7</td>\n",
       "      <td>Never-married</td>\n",
       "      <td>Machine-op-inspct</td>\n",
       "      <td>Own-child</td>\n",
       "      <td>Black</td>\n",
       "      <td>Male</td>\n",
       "      <td>0</td>\n",
       "      <td>0</td>\n",
       "      <td>40</td>\n",
       "      <td>United-States</td>\n",
       "      <td>&lt;=50K</td>\n",
       "    </tr>\n",
       "    <tr>\n",
       "      <th>1</th>\n",
       "      <td>38</td>\n",
       "      <td>Private</td>\n",
       "      <td>89814</td>\n",
       "      <td>HS-grad</td>\n",
       "      <td>9</td>\n",
       "      <td>Married-civ-spouse</td>\n",
       "      <td>Farming-fishing</td>\n",
       "      <td>Husband</td>\n",
       "      <td>White</td>\n",
       "      <td>Male</td>\n",
       "      <td>0</td>\n",
       "      <td>0</td>\n",
       "      <td>50</td>\n",
       "      <td>United-States</td>\n",
       "      <td>&lt;=50K</td>\n",
       "    </tr>\n",
       "    <tr>\n",
       "      <th>2</th>\n",
       "      <td>28</td>\n",
       "      <td>Local-gov</td>\n",
       "      <td>336951</td>\n",
       "      <td>Assoc-acdm</td>\n",
       "      <td>12</td>\n",
       "      <td>Married-civ-spouse</td>\n",
       "      <td>Protective-serv</td>\n",
       "      <td>Husband</td>\n",
       "      <td>White</td>\n",
       "      <td>Male</td>\n",
       "      <td>0</td>\n",
       "      <td>0</td>\n",
       "      <td>40</td>\n",
       "      <td>United-States</td>\n",
       "      <td>&gt;50K</td>\n",
       "    </tr>\n",
       "    <tr>\n",
       "      <th>3</th>\n",
       "      <td>44</td>\n",
       "      <td>Private</td>\n",
       "      <td>160323</td>\n",
       "      <td>Some-college</td>\n",
       "      <td>10</td>\n",
       "      <td>Married-civ-spouse</td>\n",
       "      <td>Machine-op-inspct</td>\n",
       "      <td>Husband</td>\n",
       "      <td>Black</td>\n",
       "      <td>Male</td>\n",
       "      <td>7688</td>\n",
       "      <td>0</td>\n",
       "      <td>40</td>\n",
       "      <td>United-States</td>\n",
       "      <td>&gt;50K</td>\n",
       "    </tr>\n",
       "    <tr>\n",
       "      <th>4</th>\n",
       "      <td>18</td>\n",
       "      <td>?</td>\n",
       "      <td>103497</td>\n",
       "      <td>Some-college</td>\n",
       "      <td>10</td>\n",
       "      <td>Never-married</td>\n",
       "      <td>?</td>\n",
       "      <td>Own-child</td>\n",
       "      <td>White</td>\n",
       "      <td>Female</td>\n",
       "      <td>0</td>\n",
       "      <td>0</td>\n",
       "      <td>30</td>\n",
       "      <td>United-States</td>\n",
       "      <td>&lt;=50K</td>\n",
       "    </tr>\n",
       "  </tbody>\n",
       "</table>\n",
       "</div>"
      ],
      "text/plain": [
       "   age  workclass  fnlwgt     education  educational-num      marital-status  \\\n",
       "0   25    Private  226802          11th                7       Never-married   \n",
       "1   38    Private   89814       HS-grad                9  Married-civ-spouse   \n",
       "2   28  Local-gov  336951    Assoc-acdm               12  Married-civ-spouse   \n",
       "3   44    Private  160323  Some-college               10  Married-civ-spouse   \n",
       "4   18          ?  103497  Some-college               10       Never-married   \n",
       "\n",
       "          occupation relationship   race  gender  capital-gain  capital-loss  \\\n",
       "0  Machine-op-inspct    Own-child  Black    Male             0             0   \n",
       "1    Farming-fishing      Husband  White    Male             0             0   \n",
       "2    Protective-serv      Husband  White    Male             0             0   \n",
       "3  Machine-op-inspct      Husband  Black    Male          7688             0   \n",
       "4                  ?    Own-child  White  Female             0             0   \n",
       "\n",
       "   hours-per-week native-country income  \n",
       "0              40  United-States  <=50K  \n",
       "1              50  United-States  <=50K  \n",
       "2              40  United-States   >50K  \n",
       "3              40  United-States   >50K  \n",
       "4              30  United-States  <=50K  "
      ]
     },
     "execution_count": 30,
     "metadata": {},
     "output_type": "execute_result"
    }
   ],
   "source": [
    "# Preview the train set\n",
    "train_df.head()"
   ]
  },
  {
   "cell_type": "code",
   "execution_count": 31,
   "metadata": {},
   "outputs": [
    {
     "data": {
      "text/html": [
       "<div>\n",
       "<style scoped>\n",
       "    .dataframe tbody tr th:only-of-type {\n",
       "        vertical-align: middle;\n",
       "    }\n",
       "\n",
       "    .dataframe tbody tr th {\n",
       "        vertical-align: top;\n",
       "    }\n",
       "\n",
       "    .dataframe thead th {\n",
       "        text-align: right;\n",
       "    }\n",
       "</style>\n",
       "<table border=\"1\" class=\"dataframe\">\n",
       "  <thead>\n",
       "    <tr style=\"text-align: right;\">\n",
       "      <th></th>\n",
       "      <th>age</th>\n",
       "      <th>workclass</th>\n",
       "      <th>fnlwgt</th>\n",
       "      <th>education</th>\n",
       "      <th>educational-num</th>\n",
       "      <th>marital-status</th>\n",
       "      <th>occupation</th>\n",
       "      <th>relationship</th>\n",
       "      <th>race</th>\n",
       "      <th>gender</th>\n",
       "      <th>capital-gain</th>\n",
       "      <th>capital-loss</th>\n",
       "      <th>hours-per-week</th>\n",
       "      <th>native-country</th>\n",
       "      <th>income</th>\n",
       "    </tr>\n",
       "  </thead>\n",
       "  <tbody>\n",
       "    <tr>\n",
       "      <th>39073</th>\n",
       "      <td>30</td>\n",
       "      <td>Private</td>\n",
       "      <td>75167</td>\n",
       "      <td>Bachelors</td>\n",
       "      <td>13</td>\n",
       "      <td>Married-civ-spouse</td>\n",
       "      <td>Exec-managerial</td>\n",
       "      <td>Husband</td>\n",
       "      <td>White</td>\n",
       "      <td>Male</td>\n",
       "      <td>0</td>\n",
       "      <td>0</td>\n",
       "      <td>55</td>\n",
       "      <td>United-States</td>\n",
       "      <td>&lt;=50K</td>\n",
       "    </tr>\n",
       "    <tr>\n",
       "      <th>39074</th>\n",
       "      <td>39</td>\n",
       "      <td>Private</td>\n",
       "      <td>176296</td>\n",
       "      <td>HS-grad</td>\n",
       "      <td>9</td>\n",
       "      <td>Married-civ-spouse</td>\n",
       "      <td>Transport-moving</td>\n",
       "      <td>Husband</td>\n",
       "      <td>Black</td>\n",
       "      <td>Male</td>\n",
       "      <td>0</td>\n",
       "      <td>1887</td>\n",
       "      <td>40</td>\n",
       "      <td>United-States</td>\n",
       "      <td>&gt;50K</td>\n",
       "    </tr>\n",
       "    <tr>\n",
       "      <th>39075</th>\n",
       "      <td>19</td>\n",
       "      <td>Private</td>\n",
       "      <td>93518</td>\n",
       "      <td>Some-college</td>\n",
       "      <td>10</td>\n",
       "      <td>Never-married</td>\n",
       "      <td>Sales</td>\n",
       "      <td>Own-child</td>\n",
       "      <td>White</td>\n",
       "      <td>Female</td>\n",
       "      <td>0</td>\n",
       "      <td>0</td>\n",
       "      <td>20</td>\n",
       "      <td>United-States</td>\n",
       "      <td>&lt;=50K</td>\n",
       "    </tr>\n",
       "    <tr>\n",
       "      <th>39076</th>\n",
       "      <td>25</td>\n",
       "      <td>?</td>\n",
       "      <td>126797</td>\n",
       "      <td>HS-grad</td>\n",
       "      <td>9</td>\n",
       "      <td>Married-spouse-absent</td>\n",
       "      <td>?</td>\n",
       "      <td>Not-in-family</td>\n",
       "      <td>White</td>\n",
       "      <td>Male</td>\n",
       "      <td>0</td>\n",
       "      <td>0</td>\n",
       "      <td>40</td>\n",
       "      <td>United-States</td>\n",
       "      <td>&lt;=50K</td>\n",
       "    </tr>\n",
       "    <tr>\n",
       "      <th>39077</th>\n",
       "      <td>57</td>\n",
       "      <td>Self-emp-not-inc</td>\n",
       "      <td>25124</td>\n",
       "      <td>HS-grad</td>\n",
       "      <td>9</td>\n",
       "      <td>Married-civ-spouse</td>\n",
       "      <td>Other-service</td>\n",
       "      <td>Husband</td>\n",
       "      <td>White</td>\n",
       "      <td>Male</td>\n",
       "      <td>0</td>\n",
       "      <td>0</td>\n",
       "      <td>60</td>\n",
       "      <td>United-States</td>\n",
       "      <td>&lt;=50K</td>\n",
       "    </tr>\n",
       "  </tbody>\n",
       "</table>\n",
       "</div>"
      ],
      "text/plain": [
       "       age         workclass  fnlwgt     education  educational-num  \\\n",
       "39073   30           Private   75167     Bachelors               13   \n",
       "39074   39           Private  176296       HS-grad                9   \n",
       "39075   19           Private   93518  Some-college               10   \n",
       "39076   25                 ?  126797       HS-grad                9   \n",
       "39077   57  Self-emp-not-inc   25124       HS-grad                9   \n",
       "\n",
       "              marital-status        occupation   relationship   race  gender  \\\n",
       "39073     Married-civ-spouse   Exec-managerial        Husband  White    Male   \n",
       "39074     Married-civ-spouse  Transport-moving        Husband  Black    Male   \n",
       "39075          Never-married             Sales      Own-child  White  Female   \n",
       "39076  Married-spouse-absent                 ?  Not-in-family  White    Male   \n",
       "39077     Married-civ-spouse     Other-service        Husband  White    Male   \n",
       "\n",
       "       capital-gain  capital-loss  hours-per-week native-country income  \n",
       "39073             0             0              55  United-States  <=50K  \n",
       "39074             0          1887              40  United-States   >50K  \n",
       "39075             0             0              20  United-States  <=50K  \n",
       "39076             0             0              40  United-States  <=50K  \n",
       "39077             0             0              60  United-States  <=50K  "
      ]
     },
     "execution_count": 31,
     "metadata": {},
     "output_type": "execute_result"
    }
   ],
   "source": [
    "eval_df.head()"
   ]
  },
  {
   "cell_type": "code",
   "execution_count": 32,
   "metadata": {
    "id": "yyrmQLCm0a5V"
   },
   "outputs": [
    {
     "data": {
      "text/html": [
       "<div>\n",
       "<style scoped>\n",
       "    .dataframe tbody tr th:only-of-type {\n",
       "        vertical-align: middle;\n",
       "    }\n",
       "\n",
       "    .dataframe tbody tr th {\n",
       "        vertical-align: top;\n",
       "    }\n",
       "\n",
       "    .dataframe thead th {\n",
       "        text-align: right;\n",
       "    }\n",
       "</style>\n",
       "<table border=\"1\" class=\"dataframe\">\n",
       "  <thead>\n",
       "    <tr style=\"text-align: right;\">\n",
       "      <th></th>\n",
       "      <th>age</th>\n",
       "      <th>workclass</th>\n",
       "      <th>fnlwgt</th>\n",
       "      <th>education</th>\n",
       "      <th>educational-num</th>\n",
       "      <th>marital-status</th>\n",
       "      <th>occupation</th>\n",
       "      <th>relationship</th>\n",
       "      <th>race</th>\n",
       "      <th>gender</th>\n",
       "      <th>capital-gain</th>\n",
       "      <th>capital-loss</th>\n",
       "      <th>hours-per-week</th>\n",
       "      <th>native-country</th>\n",
       "      <th>income</th>\n",
       "    </tr>\n",
       "  </thead>\n",
       "  <tbody>\n",
       "    <tr>\n",
       "      <th>39073</th>\n",
       "      <td>30</td>\n",
       "      <td>Private</td>\n",
       "      <td>75167</td>\n",
       "      <td>Bachelors</td>\n",
       "      <td>13</td>\n",
       "      <td>Married-civ-spouse</td>\n",
       "      <td>Exec-managerial</td>\n",
       "      <td>Husband</td>\n",
       "      <td>White</td>\n",
       "      <td>Male</td>\n",
       "      <td>0</td>\n",
       "      <td>0</td>\n",
       "      <td>55</td>\n",
       "      <td>United-States</td>\n",
       "      <td>&lt;=50K</td>\n",
       "    </tr>\n",
       "    <tr>\n",
       "      <th>39074</th>\n",
       "      <td>39</td>\n",
       "      <td>Private</td>\n",
       "      <td>176296</td>\n",
       "      <td>HS-grad</td>\n",
       "      <td>9</td>\n",
       "      <td>Married-civ-spouse</td>\n",
       "      <td>Transport-moving</td>\n",
       "      <td>Husband</td>\n",
       "      <td>Black</td>\n",
       "      <td>Male</td>\n",
       "      <td>0</td>\n",
       "      <td>1887</td>\n",
       "      <td>40</td>\n",
       "      <td>United-States</td>\n",
       "      <td>&gt;50K</td>\n",
       "    </tr>\n",
       "    <tr>\n",
       "      <th>39075</th>\n",
       "      <td>19</td>\n",
       "      <td>Private</td>\n",
       "      <td>93518</td>\n",
       "      <td>Some-college</td>\n",
       "      <td>10</td>\n",
       "      <td>Never-married</td>\n",
       "      <td>Sales</td>\n",
       "      <td>Own-child</td>\n",
       "      <td>White</td>\n",
       "      <td>Female</td>\n",
       "      <td>0</td>\n",
       "      <td>0</td>\n",
       "      <td>20</td>\n",
       "      <td>United-States</td>\n",
       "      <td>&lt;=50K</td>\n",
       "    </tr>\n",
       "    <tr>\n",
       "      <th>39076</th>\n",
       "      <td>25</td>\n",
       "      <td>?</td>\n",
       "      <td>126797</td>\n",
       "      <td>HS-grad</td>\n",
       "      <td>9</td>\n",
       "      <td>Married-spouse-absent</td>\n",
       "      <td>?</td>\n",
       "      <td>Not-in-family</td>\n",
       "      <td>White</td>\n",
       "      <td>Male</td>\n",
       "      <td>0</td>\n",
       "      <td>0</td>\n",
       "      <td>40</td>\n",
       "      <td>United-States</td>\n",
       "      <td>&lt;=50K</td>\n",
       "    </tr>\n",
       "    <tr>\n",
       "      <th>39077</th>\n",
       "      <td>57</td>\n",
       "      <td>Self-emp-not-inc</td>\n",
       "      <td>25124</td>\n",
       "      <td>HS-grad</td>\n",
       "      <td>9</td>\n",
       "      <td>Married-civ-spouse</td>\n",
       "      <td>Other-service</td>\n",
       "      <td>Husband</td>\n",
       "      <td>White</td>\n",
       "      <td>Male</td>\n",
       "      <td>0</td>\n",
       "      <td>0</td>\n",
       "      <td>60</td>\n",
       "      <td>United-States</td>\n",
       "      <td>&lt;=50K</td>\n",
       "    </tr>\n",
       "  </tbody>\n",
       "</table>\n",
       "</div>"
      ],
      "text/plain": [
       "       age         workclass  fnlwgt     education  educational-num  \\\n",
       "39073   30           Private   75167     Bachelors               13   \n",
       "39074   39           Private  176296       HS-grad                9   \n",
       "39075   19           Private   93518  Some-college               10   \n",
       "39076   25                 ?  126797       HS-grad                9   \n",
       "39077   57  Self-emp-not-inc   25124       HS-grad                9   \n",
       "\n",
       "              marital-status        occupation   relationship   race  gender  \\\n",
       "39073     Married-civ-spouse   Exec-managerial        Husband  White    Male   \n",
       "39074     Married-civ-spouse  Transport-moving        Husband  Black    Male   \n",
       "39075          Never-married             Sales      Own-child  White  Female   \n",
       "39076  Married-spouse-absent                 ?  Not-in-family  White    Male   \n",
       "39077     Married-civ-spouse     Other-service        Husband  White    Male   \n",
       "\n",
       "       capital-gain  capital-loss  hours-per-week native-country income  \n",
       "39073             0             0              55  United-States  <=50K  \n",
       "39074             0          1887              40  United-States   >50K  \n",
       "39075             0             0              20  United-States  <=50K  \n",
       "39076             0             0              40  United-States  <=50K  \n",
       "39077             0             0              60  United-States  <=50K  "
      ]
     },
     "execution_count": 32,
     "metadata": {},
     "output_type": "execute_result"
    }
   ],
   "source": [
    "# Preview the eval set\n",
    "eval_df.head()"
   ]
  },
  {
   "cell_type": "markdown",
   "metadata": {
    "id": "12_uIoIjr9lv"
   },
   "source": [
    "From these few columns, you can get a first impression of the data. You will notice that most are strings and integers. There are also columns that are mostly zeroes. In the next sections, you will see how to use TFDV to aggregate and process this information so you can inspect it more easily."
   ]
  },
  {
   "cell_type": "markdown",
   "metadata": {},
   "source": [
    "### Adding extra rows\n",
    "\n",
    "To demonstrate how TFDV can detect anomalies later, you will add a few extra rows to the evaluation dataset. These are either malformed or have values that will trigger certain alarms later in this notebook. The code to add these can be seen in the `add_extra_rows()` function of `util.py` found in your Jupyter workspace. You can look at it later and even modify it after you've completed the entire exercise. For now, let's just execute the function and add the rows that we've defined by default."
   ]
  },
  {
   "cell_type": "code",
   "execution_count": 33,
   "metadata": {},
   "outputs": [
    {
     "data": {
      "text/plain": [
       "9769"
      ]
     },
     "execution_count": 33,
     "metadata": {},
     "output_type": "execute_result"
    }
   ],
   "source": [
    "len(eval_df)"
   ]
  },
  {
   "cell_type": "code",
   "execution_count": 34,
   "metadata": {},
   "outputs": [
    {
     "data": {
      "text/html": [
       "<div>\n",
       "<style scoped>\n",
       "    .dataframe tbody tr th:only-of-type {\n",
       "        vertical-align: middle;\n",
       "    }\n",
       "\n",
       "    .dataframe tbody tr th {\n",
       "        vertical-align: top;\n",
       "    }\n",
       "\n",
       "    .dataframe thead th {\n",
       "        text-align: right;\n",
       "    }\n",
       "</style>\n",
       "<table border=\"1\" class=\"dataframe\">\n",
       "  <thead>\n",
       "    <tr style=\"text-align: right;\">\n",
       "      <th></th>\n",
       "      <th>age</th>\n",
       "      <th>workclass</th>\n",
       "      <th>fnlwgt</th>\n",
       "      <th>education</th>\n",
       "      <th>educational-num</th>\n",
       "      <th>marital-status</th>\n",
       "      <th>occupation</th>\n",
       "      <th>relationship</th>\n",
       "      <th>race</th>\n",
       "      <th>gender</th>\n",
       "      <th>capital-gain</th>\n",
       "      <th>capital-loss</th>\n",
       "      <th>hours-per-week</th>\n",
       "      <th>native-country</th>\n",
       "      <th>income</th>\n",
       "      <th>education-num</th>\n",
       "      <th>sex</th>\n",
       "      <th>label</th>\n",
       "    </tr>\n",
       "  </thead>\n",
       "  <tbody>\n",
       "    <tr>\n",
       "      <th>9769</th>\n",
       "      <td>46</td>\n",
       "      <td>NaN</td>\n",
       "      <td>257473</td>\n",
       "      <td>Bachelors</td>\n",
       "      <td>NaN</td>\n",
       "      <td>Married-civ-spouse</td>\n",
       "      <td>Plumber</td>\n",
       "      <td>Husband</td>\n",
       "      <td>Other</td>\n",
       "      <td>NaN</td>\n",
       "      <td>1000</td>\n",
       "      <td>0</td>\n",
       "      <td>41</td>\n",
       "      <td>Australia</td>\n",
       "      <td>NaN</td>\n",
       "      <td>8.0</td>\n",
       "      <td>Male</td>\n",
       "      <td>&gt;50K</td>\n",
       "    </tr>\n",
       "    <tr>\n",
       "      <th>9770</th>\n",
       "      <td>0</td>\n",
       "      <td>Private</td>\n",
       "      <td>257473</td>\n",
       "      <td>Masters</td>\n",
       "      <td>NaN</td>\n",
       "      <td>Married-civ-spouse</td>\n",
       "      <td>Adm-clerical</td>\n",
       "      <td>Wife</td>\n",
       "      <td>Asian</td>\n",
       "      <td>NaN</td>\n",
       "      <td>0</td>\n",
       "      <td>0</td>\n",
       "      <td>40</td>\n",
       "      <td>Pakistan</td>\n",
       "      <td>NaN</td>\n",
       "      <td>8.0</td>\n",
       "      <td>Female</td>\n",
       "      <td>&gt;50K</td>\n",
       "    </tr>\n",
       "    <tr>\n",
       "      <th>9771</th>\n",
       "      <td>1000</td>\n",
       "      <td>Private</td>\n",
       "      <td>257473</td>\n",
       "      <td>Masters</td>\n",
       "      <td>NaN</td>\n",
       "      <td>Married-civ-spouse</td>\n",
       "      <td>Prof-specialty</td>\n",
       "      <td>Husband</td>\n",
       "      <td>Black</td>\n",
       "      <td>NaN</td>\n",
       "      <td>0</td>\n",
       "      <td>0</td>\n",
       "      <td>20</td>\n",
       "      <td>Cameroon</td>\n",
       "      <td>NaN</td>\n",
       "      <td>8.0</td>\n",
       "      <td>Male</td>\n",
       "      <td>&lt;=50K</td>\n",
       "    </tr>\n",
       "    <tr>\n",
       "      <th>9772</th>\n",
       "      <td>25</td>\n",
       "      <td>?</td>\n",
       "      <td>257473</td>\n",
       "      <td>Masters</td>\n",
       "      <td>NaN</td>\n",
       "      <td>Married-civ-spouse</td>\n",
       "      <td>gamer</td>\n",
       "      <td>Husband</td>\n",
       "      <td>Asian</td>\n",
       "      <td>NaN</td>\n",
       "      <td>0</td>\n",
       "      <td>0</td>\n",
       "      <td>50</td>\n",
       "      <td>Mongolia</td>\n",
       "      <td>NaN</td>\n",
       "      <td>8.0</td>\n",
       "      <td>Female</td>\n",
       "      <td>&lt;=50K</td>\n",
       "    </tr>\n",
       "  </tbody>\n",
       "</table>\n",
       "</div>"
      ],
      "text/plain": [
       "       age workclass  fnlwgt  education  educational-num      marital-status  \\\n",
       "9769    46       NaN  257473  Bachelors              NaN  Married-civ-spouse   \n",
       "9770     0   Private  257473    Masters              NaN  Married-civ-spouse   \n",
       "9771  1000   Private  257473    Masters              NaN  Married-civ-spouse   \n",
       "9772    25         ?  257473    Masters              NaN  Married-civ-spouse   \n",
       "\n",
       "          occupation relationship   race gender  capital-gain  capital-loss  \\\n",
       "9769         Plumber      Husband  Other    NaN          1000             0   \n",
       "9770    Adm-clerical         Wife  Asian    NaN             0             0   \n",
       "9771  Prof-specialty      Husband  Black    NaN             0             0   \n",
       "9772           gamer      Husband  Asian    NaN             0             0   \n",
       "\n",
       "      hours-per-week native-country income  education-num     sex  label  \n",
       "9769              41      Australia    NaN            8.0    Male   >50K  \n",
       "9770              40       Pakistan    NaN            8.0  Female   >50K  \n",
       "9771              20       Cameroon    NaN            8.0    Male  <=50K  \n",
       "9772              50       Mongolia    NaN            8.0  Female  <=50K  "
      ]
     },
     "execution_count": 34,
     "metadata": {},
     "output_type": "execute_result"
    }
   ],
   "source": [
    "# add extra rows\n",
    "eval_df = add_extra_rows(eval_df)\n",
    "\n",
    "# preview the added rows\n",
    "eval_df.tail(4)"
   ]
  },
  {
   "cell_type": "code",
   "execution_count": 35,
   "metadata": {},
   "outputs": [
    {
     "data": {
      "text/plain": [
       "9773"
      ]
     },
     "execution_count": 35,
     "metadata": {},
     "output_type": "execute_result"
    }
   ],
   "source": [
    "len(eval_df)"
   ]
  },
  {
   "cell_type": "code",
   "execution_count": null,
   "metadata": {},
   "outputs": [],
   "source": []
  },
  {
   "cell_type": "markdown",
   "metadata": {
    "id": "Duwwrsvf_9bK"
   },
   "source": [
    "## Generate and visualize training dataset statistics"
   ]
  },
  {
   "cell_type": "markdown",
   "metadata": {
    "id": "5Nm5E1HAgPU0"
   },
   "source": [
    "You can now compute and visualize the statistics of your training dataset. TFDV accepts three input formats: TensorFlow’s TFRecord, Pandas Dataframe, and CSV file. In this exercise, you will feed in the Pandas Dataframes you generated from the train-test split. \n",
    "\n",
    "You can compute your dataset statistics by using the [`generate_statistics_from_dataframe()`](https://www.tensorflow.org/tfx/data_validation/api_docs/python/tfdv/generate_statistics_from_dataframe) method. Under the hood, it distributes the analysis via [Apache Beam](https://beam.apache.org/) which allows it to scale over large datasets.\n",
    "\n",
    "The results returned by this step for numerical and categorical data are summarized in this table:\n",
    "\n",
    "| Numerical Data | Categorical Data   |\n",
    "|:-:|:-:|\n",
    "|Count of data records|Count of data records\n",
    "|% of missing data records|% of missing data records|\n",
    "|Mean, std, min, max|unique records|\n",
    "|% of zero values|Avg string length|\n"
   ]
  },
  {
   "cell_type": "code",
   "execution_count": 36,
   "metadata": {
    "id": "_vTx9Qkk4yGc"
   },
   "outputs": [],
   "source": [
    "# Generate training dataset statistics\n",
    "train_stats = tfdv.generate_statistics_from_dataframe(train_df)"
   ]
  },
  {
   "cell_type": "markdown",
   "metadata": {
    "id": "86nhDglwuilJ"
   },
   "source": [
    "Once you've generated the statistics, you can easily visualize your results with the [`visualize_statistics()`](https://www.tensorflow.org/tfx/data_validation/api_docs/python/tfdv/visualize_statistics) method. This shows a [Facets interface](https://pair-code.github.io/facets/) and is very useful to spot if you have a high amount of missing data or high standard deviation. Run the cell below and explore the different settings in the output interface (e.g. Sort by, Reverse order, Feature search)."
   ]
  },
  {
   "cell_type": "code",
   "execution_count": 37,
   "metadata": {
    "id": "1D1wP3mm5ebW"
   },
   "outputs": [
    {
     "data": {
      "text/html": [
       "<iframe id='facets-iframe' width=\"100%\" height=\"500px\"></iframe>\n",
       "        <script>\n",
       "        facets_iframe = document.getElementById('facets-iframe');\n",
       "        facets_html = '<script src=\"https://cdnjs.cloudflare.com/ajax/libs/webcomponentsjs/1.3.3/webcomponents-lite.js\"><\\/script><link rel=\"import\" href=\"https://raw.githubusercontent.com/PAIR-code/facets/master/facets-dist/facets-jupyter.html\"><facets-overview proto-input=\"Co1mCg5saHNfc3RhdGlzdGljcxChsQIavgcatAcKuAIIobECGAEgAS0AAIA/MqQCGhsJAAAAAAAA8D8RAAAAAAAA8D8hmpmZmZmGrkAaGwkAAAAAAADwPxEAAAAAAADwPyGamZmZmYauQBobCQAAAAAAAPA/EQAAAAAAAPA/IZqZmZmZhq5AGhsJAAAAAAAA8D8RAAAAAAAA8D8hmpmZmZmGrkAaGwkAAAAAAADwPxEAAAAAAADwPyGamZmZmYauQBobCQAAAAAAAPA/EQAAAAAAAPA/IZqZmZmZhq5AGhsJAAAAAAAA8D8RAAAAAAAA8D8hmpmZmZmGrkAaGwkAAAAAAADwPxEAAAAAAADwPyGamZmZmYauQBobCQAAAAAAAPA/EQAAAAAAAPA/IZqZmZmZhq5AGhsJAAAAAAAA8D8RAAAAAAAA8D8hmpmZmZmGrkAgAUChsQIRvZjwzj9VQ0AZzDzqsJN5K0ApAAAAAAAAMUAxAAAAAACAQkA5AAAAAACAVkBCogIaGwkAAAAAAAAxQBHNzMzMzEw4QCGQU3QkR0y6QBobCc3MzMzMTDhAEZqZmZmZmT9AIZkqGJWkD7tAGhsJmpmZmZmZP0ARMzMzMzNzQ0Ahrdhfdl+WvEAaGwkzMzMzM3NDQBGamZmZmRlHQCGt2F92X5a8QBobCZqZmZmZGUdAEQAAAAAAwEpAISjtDb6gqrJAGhsJAAAAAADASkARZmZmZmZmTkAhB84ZUfo0qEAaGwlmZmZmZmZOQBFmZmZmZgZRQCEZc9cSMhmeQBobCWZmZmZmBlFAEZqZmZmZ2VJAIbMl5IMe54NAGhsJmpmZmZnZUkARzczMzMysVEAh3oOezaqAb0AaGwnNzMzMzKxUQBEAAAAAAIBWQCE+rWnecQBVQEKkAhobCQAAAAAAADFAEQAAAAAAADZAIZqZmZmZhq5AGhsJAAAAAAAANkARAAAAAAAAOkAhmpmZmZmGrkAaGwkAAAAAAAA6QBEAAAAAAAA+QCGamZmZmYauQBobCQAAAAAAAD5AEQAAAAAAgEBAIZqZmZmZhq5AGhsJAAAAAACAQEARAAAAAACAQkAhmpmZmZmGrkAaGwkAAAAAAIBCQBEAAAAAAIBEQCGamZmZmYauQBobCQAAAAAAgERAEQAAAAAAgEZAIZqZmZmZhq5AGhsJAAAAAACARkARAAAAAACASUAhmpmZmZmGrkAaGwkAAAAAAIBJQBEAAAAAAABNQCGamZmZmYauQBobCQAAAAAAAE1AEQAAAAAAgFZAIZqZmZmZhq5AIAFCBQoDYWdlGpEGEAIi/wUKuAIIobECGAEgAS0AAIA/MqQCGhsJAAAAAAAA8D8RAAAAAAAA8D8hmpmZmZmGrkAaGwkAAAAAAADwPxEAAAAAAADwPyGamZmZmYauQBobCQAAAAAAAPA/EQAAAAAAAPA/IZqZmZmZhq5AGhsJAAAAAAAA8D8RAAAAAAAA8D8hmpmZmZmGrkAaGwkAAAAAAADwPxEAAAAAAADwPyGamZmZmYauQBobCQAAAAAAAPA/EQAAAAAAAPA/IZqZmZmZhq5AGhsJAAAAAAAA8D8RAAAAAAAA8D8hmpmZmZmGrkAaGwkAAAAAAADwPxEAAAAAAADwPyGamZmZmYauQBobCQAAAAAAAPA/EQAAAAAAAPA/IZqZmZmZhq5AGhsJAAAAAAAA8D8RAAAAAAAA8D8hmpmZmZmGrkAgAUChsQIQCRoSEgdQcml2YXRlGQAAAAAAa9pAGhsSEFNlbGYtZW1wLW5vdC1pbmMZAAAAAACAqEAaFBIJTG9jYWwtZ292GQAAAAAAwKNAGgwSAT8ZAAAAAAB8oUAaFBIJU3RhdGUtZ292GQAAAAAAnJhAGhcSDFNlbGYtZW1wLWluYxkAAAAAADyVQBoWEgtGZWRlcmFsLWdvdhkAAAAAACySQBoWEgtXaXRob3V0LXBheRkAAAAAAAAuQBoXEgxOZXZlci13b3JrZWQZAAAAAAAAHEAldUr8QCrtAQoSIgdQcml2YXRlKQAAAAAAa9pACh8IARABIhBTZWxmLWVtcC1ub3QtaW5jKQAAAAAAgKhAChgIAhACIglMb2NhbC1nb3YpAAAAAADAo0AKEAgDEAMiAT8pAAAAAAB8oUAKGAgEEAQiCVN0YXRlLWdvdikAAAAAAJyYQAobCAUQBSIMU2VsZi1lbXAtaW5jKQAAAAAAPJVAChoIBhAGIgtGZWRlcmFsLWdvdikAAAAAACySQAoaCAcQByILV2l0aG91dC1wYXkpAAAAAAAALkAKGwgIEAgiDE5ldmVyLXdvcmtlZCkAAAAAAAAcQEILCgl3b3JrY2xhc3MawQcatAcKuAIIobECGAEgAS0AAIA/MqQCGhsJAAAAAAAA8D8RAAAAAAAA8D8hmpmZmZmGrkAaGwkAAAAAAADwPxEAAAAAAADwPyGamZmZmYauQBobCQAAAAAAAPA/EQAAAAAAAPA/IZqZmZmZhq5AGhsJAAAAAAAA8D8RAAAAAAAA8D8hmpmZmZmGrkAaGwkAAAAAAADwPxEAAAAAAADwPyGamZmZmYauQBobCQAAAAAAAPA/EQAAAAAAAPA/IZqZmZmZhq5AGhsJAAAAAAAA8D8RAAAAAAAA8D8hmpmZmZmGrkAaGwkAAAAAAADwPxEAAAAAAADwPyGamZmZmYauQBobCQAAAAAAAPA/EQAAAAAAAPA/IZqZmZmZhq5AGhsJAAAAAAAA8D8RAAAAAAAA8D8hmpmZmZmGrkAgAUChsQIROpYPlXkjB0EZmfaLQcGz+UApAAAAAID+x0AxAAAAAKC9BUE5AAAAAOC9NkFCogIaGwkAAAAAgP7HQBEAAAAABIsDQSEIV29M6CXPQBobCQAAAAAEiwNBEQAAAAAQyxJBIeN34oUO1tFAGhsJAAAAABDLEkERAAAAAJ7QG0EhnHHpwd1HsEAaGwkAAAAAntAbQREAAAAAFmsiQSHbbWmJ1neAQBobCQAAAAAWayJBEQAAAADd7SZBIbOYm/rH3VtAGhsJAAAAAN3tJkERAAAAAKRwK0EhtFu8OsLUNUAaGwkAAAAApHArQREAAAAAa/MvQSGrJtQtbWggQBobCQAAAABr8y9BEQAAAAAZOzJBIasm1C1taCBAGhsJAAAAABk7MkERAAAAgHx8NEEhqybULW1oIEAaGwkAAACAfHw0QREAAAAA4L02QSGrJtQtbWggQEKkAhobCQAAAACA/sdAEQAAAABAFfBAIZqZmZmZhq5AGhsJAAAAAEAV8EARAAAAAJD4+UAhmpmZmZmGrkAaGwkAAAAAkPj5QBEAAAAA8P3/QCGamZmZmYauQBobCQAAAADw/f9AEQAAAAD4RwNBIZqZmZmZhq5AGhsJAAAAAPhHA0ERAAAAAKC9BUEhmpmZmZmGrkAaGwkAAAAAoL0FQREAAAAA6PAHQSGamZmZmYauQBobCQAAAADo8AdBEQAAAACY3gpBIZqZmZmZhq5AGhsJAAAAAJjeCkERAAAAAMi4D0EhmpmZmZmGrkAaGwkAAAAAyLgPQREAAAAAdAMUQSGamZmZmYauQBobCQAAAAB0AxRBEQAAAADgvTZBIZqZmZmZhq5AIAFCCAoGZm5sd2d0GqEIEAIijwgKuAIIobECGAEgAS0AAIA/MqQCGhsJAAAAAAAA8D8RAAAAAAAA8D8hmpmZmZmGrkAaGwkAAAAAAADwPxEAAAAAAADwPyGamZmZmYauQBobCQAAAAAAAPA/EQAAAAAAAPA/IZqZmZmZhq5AGhsJAAAAAAAA8D8RAAAAAAAA8D8hmpmZmZmGrkAaGwkAAAAAAADwPxEAAAAAAADwPyGamZmZmYauQBobCQAAAAAAAPA/EQAAAAAAAPA/IZqZmZmZhq5AGhsJAAAAAAAA8D8RAAAAAAAA8D8hmpmZmZmGrkAaGwkAAAAAAADwPxEAAAAAAADwPyGamZmZmYauQBobCQAAAAAAAPA/EQAAAAAAAPA/IZqZmZmZhq5AGhsJAAAAAAAA8D8RAAAAAAAA8D8hmpmZmZmGrkAgAUChsQIQEBoSEgdIUy1ncmFkGQAAAACA0MhAGhcSDFNvbWUtY29sbGVnZRkAAAAAAPbAQBoUEglCYWNoZWxvcnMZAAAAAAA3uUAaEhIHTWFzdGVycxkAAAAAALKgQBoUEglBc3NvYy12b2MZAAAAAACkmUAaDxIEMTF0aBkAAAAAAOCWQBoVEgpBc3NvYy1hY2RtGQAAAAAAmJNAGg8SBDEwdGgZAAAAAABUkUAaEhIHN3RoLTh0aBkAAAAAAJCHQBoWEgtQcm9mLXNjaG9vbBkAAAAAACCEQBoOEgM5dGgZAAAAAACogkAaDxIEMTJ0aBkAAAAAAMB/QBoUEglEb2N0b3JhdGUZAAAAAAAQfUAaEhIHNXRoLTZ0aBkAAAAAABB5QBoSEgcxc3QtNHRoGQAAAAAA4GdAGhQSCVByZXNjaG9vbBkAAAAAAABQQCUkrQZBKoMDChIiB0hTLWdyYWQpAAAAAIDQyEAKGwgBEAEiDFNvbWUtY29sbGVnZSkAAAAAAPbAQAoYCAIQAiIJQmFjaGVsb3JzKQAAAAAAN7lAChYIAxADIgdNYXN0ZXJzKQAAAAAAsqBAChgIBBAEIglBc3NvYy12b2MpAAAAAACkmUAKEwgFEAUiBDExdGgpAAAAAADglkAKGQgGEAYiCkFzc29jLWFjZG0pAAAAAACYk0AKEwgHEAciBDEwdGgpAAAAAABUkUAKFggIEAgiBzd0aC04dGgpAAAAAACQh0AKGggJEAkiC1Byb2Ytc2Nob29sKQAAAAAAIIRAChIIChAKIgM5dGgpAAAAAACogkAKEwgLEAsiBDEydGgpAAAAAADAf0AKGAgMEAwiCURvY3RvcmF0ZSkAAAAAABB9QAoWCA0QDSIHNXRoLTZ0aCkAAAAAABB5QAoWCA4QDiIHMXN0LTR0aCkAAAAAAOBnQAoYCA8QDyIJUHJlc2Nob29sKQAAAAAAAFBAQgsKCWVkdWNhdGlvbhrKBxq0Bwq4AgihsQIYASABLQAAgD8ypAIaGwkAAAAAAADwPxEAAAAAAADwPyGamZmZmYauQBobCQAAAAAAAPA/EQAAAAAAAPA/IZqZmZmZhq5AGhsJAAAAAAAA8D8RAAAAAAAA8D8hmpmZmZmGrkAaGwkAAAAAAADwPxEAAAAAAADwPyGamZmZmYauQBobCQAAAAAAAPA/EQAAAAAAAPA/IZqZmZmZhq5AGhsJAAAAAAAA8D8RAAAAAAAA8D8hmpmZmZmGrkAaGwkAAAAAAADwPxEAAAAAAADwPyGamZmZmYauQBobCQAAAAAAAPA/EQAAAAAAAPA/IZqZmZmZhq5AGhsJAAAAAAAA8D8RAAAAAAAA8D8hmpmZmZmGrkAaGwkAAAAAAADwPxEAAAAAAADwPyGamZmZmYauQCABQKGxAhG28mskqSgkQBlJzcLqdH0EQCkAAAAAAADwPzEAAAAAAAAkQDkAAAAAAAAwQEKiAhobCQAAAAAAAPA/EQAAAAAAAARAIXa+nxovv29AGhsJAAAAAAAABEARAAAAAAAAEEAhJQaBlUOkeUAaGwkAAAAAAAAQQBEAAAAAAAAWQCHn+6nxEhCVQBobCQAAAAAAABZAEQAAAAAAABxAIVCNl25SZpFAGhsJAAAAAAAAHEARAAAAAAAAIUAh0SLb+b7UnkAaGwkAAAAAAAAhQBEAAAAAAAAkQCH0/dR4IdfIQBobCQAAAAAAACRAEQAAAAAAACdAIRsv3STeG8RAGhsJAAAAAAAAJ0ARAAAAAAAAKkAhCtejcH3Xk0AaGwkAAAAAAAAqQBEAAAAAAAAtQCG7SQwCQ8DAQBobCQAAAAAAAC1AEQAAAAAAADBAIU+Nl25SZpFAQqQCGhsJAAAAAAAA8D8RAAAAAAAAHEAhmpmZmZmGrkAaGwkAAAAAAAAcQBEAAAAAAAAiQCGamZmZmYauQBobCQAAAAAAACJAEQAAAAAAACJAIZqZmZmZhq5AGhsJAAAAAAAAIkARAAAAAAAAIkAhmpmZmZmGrkAaGwkAAAAAAAAiQBEAAAAAAAAkQCGamZmZmYauQBobCQAAAAAAACRAEQAAAAAAACRAIZqZmZmZhq5AGhsJAAAAAAAAJEARAAAAAAAAJkAhmpmZmZmGrkAaGwkAAAAAAAAmQBEAAAAAAAAqQCGamZmZmYauQBobCQAAAAAAACpAEQAAAAAAACpAIZqZmZmZhq5AGhsJAAAAAAAAKkARAAAAAAAAMEAhmpmZmZmGrkAgAUIRCg9lZHVjYXRpb25hbC1udW0a5AUQAiLNBQq4AgihsQIYASABLQAAgD8ypAIaGwkAAAAAAADwPxEAAAAAAADwPyGamZmZmYauQBobCQAAAAAAAPA/EQAAAAAAAPA/IZqZmZmZhq5AGhsJAAAAAAAA8D8RAAAAAAAA8D8hmpmZmZmGrkAaGwkAAAAAAADwPxEAAAAAAADwPyGamZmZmYauQBobCQAAAAAAAPA/EQAAAAAAAPA/IZqZmZmZhq5AGhsJAAAAAAAA8D8RAAAAAAAA8D8hmpmZmZmGrkAaGwkAAAAAAADwPxEAAAAAAADwPyGamZmZmYauQBobCQAAAAAAAPA/EQAAAAAAAPA/IZqZmZmZhq5AGhsJAAAAAAAA8D8RAAAAAAAA8D8hmpmZmZmGrkAaGwkAAAAAAADwPxEAAAAAAADwPyGamZmZmYauQCABQKGxAhAHGh0SEk1hcnJpZWQtY2l2LXNwb3VzZRkAAAAAwGzRQBoYEg1OZXZlci1tYXJyaWVkGQAAAAAAPslAGhMSCERpdm9yY2VkGQAAAAAA0bRAGhISB1dpZG93ZWQZAAAAAAAQk0AaFBIJU2VwYXJhdGVkGQAAAAAA9JJAGiASFU1hcnJpZWQtc3BvdXNlLWFic2VudBkAAAAAABiAQBocEhFNYXJyaWVkLUFGLXNwb3VzZRkAAAAAAAA9QCVAX2ZBKtABCh0iEk1hcnJpZWQtY2l2LXNwb3VzZSkAAAAAwGzRQAocCAEQASINTmV2ZXItbWFycmllZCkAAAAAAD7JQAoXCAIQAiIIRGl2b3JjZWQpAAAAAADRtEAKFggDEAMiB1dpZG93ZWQpAAAAAAAQk0AKGAgEEAQiCVNlcGFyYXRlZCkAAAAAAPSSQAokCAUQBSIVTWFycmllZC1zcG91c2UtYWJzZW50KQAAAAAAGIBACiAIBhAGIhFNYXJyaWVkLUFGLXNwb3VzZSkAAAAAAAA9QEIQCg5tYXJpdGFsLXN0YXR1cxqUCRACIoEJCrgCCKGxAhgBIAEtAACAPzKkAhobCQAAAAAAAPA/EQAAAAAAAPA/IZqZmZmZhq5AGhsJAAAAAAAA8D8RAAAAAAAA8D8hmpmZmZmGrkAaGwkAAAAAAADwPxEAAAAAAADwPyGamZmZmYauQBobCQAAAAAAAPA/EQAAAAAAAPA/IZqZmZmZhq5AGhsJAAAAAAAA8D8RAAAAAAAA8D8hmpmZmZmGrkAaGwkAAAAAAADwPxEAAAAAAADwPyGamZmZmYauQBobCQAAAAAAAPA/EQAAAAAAAPA/IZqZmZmZhq5AGhsJAAAAAAAA8D8RAAAAAAAA8D8hmpmZmZmGrkAaGwkAAAAAAADwPxEAAAAAAADwPyGamZmZmYauQBobCQAAAAAAAPA/EQAAAAAAAPA/IZqZmZmZhq5AIAFAobECEA8aGRIOUHJvZi1zcGVjaWFsdHkZAAAAAABJs0AaFxIMQ3JhZnQtcmVwYWlyGQAAAAAABrNAGhoSD0V4ZWMtbWFuYWdlcmlhbBkAAAAAAMOyQBoXEgxBZG0tY2xlcmljYWwZAAAAAADKsUAaEBIFU2FsZXMZAAAAAABQsUAaGBINT3RoZXItc2VydmljZRkAAAAAANKuQBocEhFNYWNoaW5lLW9wLWluc3BjdBkAAAAAABCjQBoMEgE/GQAAAAAAiqFAGhsSEFRyYW5zcG9ydC1tb3ZpbmcZAAAAAABEnUAaHBIRSGFuZGxlcnMtY2xlYW5lcnMZAAAAAABAmUAaGhIPRmFybWluZy1maXNoaW5nGQAAAAAAgJJAGhcSDFRlY2gtc3VwcG9ydBkAAAAAACSSQBoaEg9Qcm90ZWN0aXZlLXNlcnYZAAAAAADAiEAaGhIPUHJpdi1ob3VzZS1zZXJ2GQAAAAAAAGpAGhcSDEFybWVkLUZvcmNlcxkAAAAAAAAqQCVNzEJBKroDChkiDlByb2Ytc3BlY2lhbHR5KQAAAAAASbNAChsIARABIgxDcmFmdC1yZXBhaXIpAAAAAAAGs0AKHggCEAIiD0V4ZWMtbWFuYWdlcmlhbCkAAAAAAMOyQAobCAMQAyIMQWRtLWNsZXJpY2FsKQAAAAAAyrFAChQIBBAEIgVTYWxlcykAAAAAAFCxQAocCAUQBSINT3RoZXItc2VydmljZSkAAAAAANKuQAogCAYQBiIRTWFjaGluZS1vcC1pbnNwY3QpAAAAAAAQo0AKEAgHEAciAT8pAAAAAACKoUAKHwgIEAgiEFRyYW5zcG9ydC1tb3ZpbmcpAAAAAABEnUAKIAgJEAkiEUhhbmRsZXJzLWNsZWFuZXJzKQAAAAAAQJlACh4IChAKIg9GYXJtaW5nLWZpc2hpbmcpAAAAAACAkkAKGwgLEAsiDFRlY2gtc3VwcG9ydCkAAAAAACSSQAoeCAwQDCIPUHJvdGVjdGl2ZS1zZXJ2KQAAAAAAwIhACh4IDRANIg9Qcml2LWhvdXNlLXNlcnYpAAAAAAAAakAKGwgOEA4iDEFybWVkLUZvcmNlcykAAAAAAAAqQEIMCgpvY2N1cGF0aW9uGvoEEAIi5QQKuAIIobECGAEgAS0AAIA/MqQCGhsJAAAAAAAA8D8RAAAAAAAA8D8hmpmZmZmGrkAaGwkAAAAAAADwPxEAAAAAAADwPyGamZmZmYauQBobCQAAAAAAAPA/EQAAAAAAAPA/IZqZmZmZhq5AGhsJAAAAAAAA8D8RAAAAAAAA8D8hmpmZmZmGrkAaGwkAAAAAAADwPxEAAAAAAADwPyGamZmZmYauQBobCQAAAAAAAPA/EQAAAAAAAPA/IZqZmZmZhq5AGhsJAAAAAAAA8D8RAAAAAAAA8D8hmpmZmZmGrkAaGwkAAAAAAADwPxEAAAAAAADwPyGamZmZmYauQBobCQAAAAAAAPA/EQAAAAAAAPA/IZqZmZmZhq5AGhsJAAAAAAAA8D8RAAAAAAAA8D8hmpmZmZmGrkAgAUChsQIQBhoSEgdIdXNiYW5kGQAAAACApM5AGhgSDU5vdC1pbi1mYW1pbHkZAAAAAIDhw0AaFBIJT3duLWNoaWxkGQAAAAAAobdAGhQSCVVubWFycmllZBkAAAAAAMKvQBoPEgRXaWZlGQAAAAAAgJ1AGhkSDk90aGVyLXJlbGF0aXZlGQAAAAAAzJJAJdtrEkEqmgEKEiIHSHVzYmFuZCkAAAAAgKTOQAocCAEQASINTm90LWluLWZhbWlseSkAAAAAgOHDQAoYCAIQAiIJT3duLWNoaWxkKQAAAAAAobdAChgIAxADIglVbm1hcnJpZWQpAAAAAADCr0AKEwgEEAQiBFdpZmUpAAAAAACAnUAKHQgFEAUiDk90aGVyLXJlbGF0aXZlKQAAAAAAzJJAQg4KDHJlbGF0aW9uc2hpcBrKBBACIr0ECrgCCKGxAhgBIAEtAACAPzKkAhobCQAAAAAAAPA/EQAAAAAAAPA/IZqZmZmZhq5AGhsJAAAAAAAA8D8RAAAAAAAA8D8hmpmZmZmGrkAaGwkAAAAAAADwPxEAAAAAAADwPyGamZmZmYauQBobCQAAAAAAAPA/EQAAAAAAAPA/IZqZmZmZhq5AGhsJAAAAAAAA8D8RAAAAAAAA8D8hmpmZmZmGrkAaGwkAAAAAAADwPxEAAAAAAADwPyGamZmZmYauQBobCQAAAAAAAPA/EQAAAAAAAPA/IZqZmZmZhq5AGhsJAAAAAAAA8D8RAAAAAAAA8D8hmpmZmZmGrkAaGwkAAAAAAADwPxEAAAAAAADwPyGamZmZmYauQBobCQAAAAAAAPA/EQAAAAAAAPA/IZqZmZmZhq5AIAFAobECEAUaEBIFV2hpdGUZAAAAAOBT4EAaEBIFQmxhY2sZAAAAAAAgrUAaHRISQXNpYW4tUGFjLUlzbGFuZGVyGQAAAAAAoJJAGh0SEkFtZXItSW5kaWFuLUVza2ltbxkAAAAAAPB3QBoQEgVPdGhlchkAAAAAALB0QCXExLBAKoQBChAiBVdoaXRlKQAAAADgU+BAChQIARABIgVCbGFjaykAAAAAACCtQAohCAIQAiISQXNpYW4tUGFjLUlzbGFuZGVyKQAAAAAAoJJACiEIAxADIhJBbWVyLUluZGlhbi1Fc2tpbW8pAAAAAADwd0AKFAgEEAQiBU90aGVyKQAAAAAAsHRAQgYKBHJhY2UanwMQAiKQAwq4AgihsQIYASABLQAAgD8ypAIaGwkAAAAAAADwPxEAAAAAAADwPyGamZmZmYauQBobCQAAAAAAAPA/EQAAAAAAAPA/IZqZmZmZhq5AGhsJAAAAAAAA8D8RAAAAAAAA8D8hmpmZmZmGrkAaGwkAAAAAAADwPxEAAAAAAADwPyGamZmZmYauQBobCQAAAAAAAPA/EQAAAAAAAPA/IZqZmZmZhq5AGhsJAAAAAAAA8D8RAAAAAAAA8D8hmpmZmZmGrkAaGwkAAAAAAADwPxEAAAAAAADwPyGamZmZmYauQBobCQAAAAAAAPA/EQAAAAAAAPA/IZqZmZmZhq5AGhsJAAAAAAAA8D8RAAAAAAAA8D8hmpmZmZmGrkAaGwkAAAAAAADwPxEAAAAAAADwPyGamZmZmYauQCABQKGxAhACGg8SBE1hbGUZAAAAAEB/2UAaERIGRmVtYWxlGQAAAAAAUslAJQk8lUAqKAoPIgRNYWxlKQAAAABAf9lAChUIARABIgZGZW1hbGUpAAAAAABSyUBCCAoGZ2VuZGVyGoQGGvEFCrgCCKGxAhgBIAEtAACAPzKkAhobCQAAAAAAAPA/EQAAAAAAAPA/IZqZmZmZhq5AGhsJAAAAAAAA8D8RAAAAAAAA8D8hmpmZmZmGrkAaGwkAAAAAAADwPxEAAAAAAADwPyGamZmZmYauQBobCQAAAAAAAPA/EQAAAAAAAPA/IZqZmZmZhq5AGhsJAAAAAAAA8D8RAAAAAAAA8D8hmpmZmZmGrkAaGwkAAAAAAADwPxEAAAAAAADwPyGamZmZmYauQBobCQAAAAAAAPA/EQAAAAAAAPA/IZqZmZmZhq5AGhsJAAAAAAAA8D8RAAAAAAAA8D8hmpmZmZmGrkAaGwkAAAAAAADwPxEAAAAAAADwPyGamZmZmYauQBobCQAAAAAAAPA/EQAAAAAAAPA/IZqZmZmZhq5AIAFAobECEYWdVtxit5BAGa3ISb/6E71AIKiYAjkAAAAA8Gn4QEKZAhoSETMzMzPzh8NAIS/uwyZvpuJAGhsJMzMzM/OHw0ARMzMzM/OH00AhY15V51TcgkAaGwkzMzMz84fTQBHMzMzM7EvdQCEEsqTDpetGQBobCczMzMzsS91AETMzMzPzh+NAISnxiHo3+zxAGhsJMzMzM/OH40ARAAAAAPBp6EAhDaQnLXIqI0AaGwkAAAAA8GnoQBHMzMzM7EvtQCG/iu7hWaEaQBobCczMzMzsS+1AEc3MzMz0FvFAIcmK7uFZoRpAGhsJzczMzPQW8UARMzMzM/OH80Ahv4ru4VmhGkAaGwkzMzMz84fzQBGZmZmZ8fj1QCG/iu7hWaEaQBobCZmZmZnx+PVAEQAAAADwafhAISnCcd9iXmRAQnkaCSGamZmZmYauQBoJIZqZmZmZhq5AGgkhmpmZmZmGrkAaCSGamZmZmYauQBoJIZqZmZmZhq5AGgkhmpmZmZmGrkAaCSGamZmZmYauQBoJIZqZmZmZhq5AGgkhmpmZmZmGrkAaEhEAAAAA8Gn4QCGamZmZmYauQCABQg4KDGNhcGl0YWwtZ2FpbhqEBhrxBQq4AgihsQIYASABLQAAgD8ypAIaGwkAAAAAAADwPxEAAAAAAADwPyGamZmZmYauQBobCQAAAAAAAPA/EQAAAAAAAPA/IZqZmZmZhq5AGhsJAAAAAAAA8D8RAAAAAAAA8D8hmpmZmZmGrkAaGwkAAAAAAADwPxEAAAAAAADwPyGamZmZmYauQBobCQAAAAAAAPA/EQAAAAAAAPA/IZqZmZmZhq5AGhsJAAAAAAAA8D8RAAAAAAAA8D8hmpmZmZmGrkAaGwkAAAAAAADwPxEAAAAAAADwPyGamZmZmYauQBobCQAAAAAAAPA/EQAAAAAAAPA/IZqZmZmZhq5AGhsJAAAAAAAA8D8RAAAAAAAA8D8hmpmZmZmGrkAaGwkAAAAAAADwPxEAAAAAAADwPyGamZmZmYauQCABQKGxAhHw0yQr581VQBnC2QGooB15QCCBowI5AAAAAAAEsUBCmQIaEhGamZmZmTl7QCFBrqNG1DHiQBobCZqZmZmZOXtAEZqZmZmZOYtAIQIsfqlTvDhAGhsJmpmZmZk5i0ARNDMzMzNrlEAhtt4+hFtpN0AaGwk0MzMzM2uUQBGamZmZmTmbQCFEA6rp5TuBQBobCZqZmZmZOZtAEQAAAAAABKFAIcNG8hzXcI1AGhsJAAAAAAAEoUARNDMzMzNrpEAhdL021LbXbEAaGwk0MzMzM2ukQBFnZmZmZtKnQCE24cgfYvEiQBobCWdmZmZm0qdAEZqZmZmZOatAITbhyB9i8SJAGhsJmpmZmZk5q0ARzczMzMygrkAhNuHIH2LxIkAaGwnNzMzMzKCuQBEAAAAAAASxQCE24cgfYvEiQEJ5GgkhmpmZmZmGrkAaCSGamZmZmYauQBoJIZqZmZmZhq5AGgkhmpmZmZmGrkAaCSGamZmZmYauQBoJIZqZmZmZhq5AGgkhmpmZmZmGrkAaCSGamZmZmYauQBoJIZqZmZmZhq5AGhIRAAAAAAAEsUAhmpmZmZmGrkAgAUIOCgxjYXBpdGFsLWxvc3MayQcatAcKuAIIobECGAEgAS0AAIA/MqQCGhsJAAAAAAAA8D8RAAAAAAAA8D8hmpmZmZmGrkAaGwkAAAAAAADwPxEAAAAAAADwPyGamZmZmYauQBobCQAAAAAAAPA/EQAAAAAAAPA/IZqZmZmZhq5AGhsJAAAAAAAA8D8RAAAAAAAA8D8hmpmZmZmGrkAaGwkAAAAAAADwPxEAAAAAAADwPyGamZmZmYauQBobCQAAAAAAAPA/EQAAAAAAAPA/IZqZmZmZhq5AGhsJAAAAAAAA8D8RAAAAAAAA8D8hmpmZmZmGrkAaGwkAAAAAAADwPxEAAAAAAADwPyGamZmZmYauQBobCQAAAAAAAPA/EQAAAAAAAPA/IZqZmZmZhq5AGhsJAAAAAAAA8D8RAAAAAAAA8D8hmpmZmZmGrkAgAUChsQIRicrfs4IzREAZK6PPDta6KEApAAAAAAAA8D8xAAAAAAAAREA5AAAAAADAWEBCogIaGwkAAAAAAADwPxGamZmZmZklQCEExY8xd5KMQBobCZqZmZmZmSVAEZqZmZmZmTRAIVXBqKSO0aRAGhsJmpmZmZmZNEARZ2ZmZmZmPkAhQq1p3nEApUAaGwlnZmZmZmY+QBGamZmZmRlEQCFR/BhzR93UQBobCZqZmZmZGURAEQAAAAAAAElAIRcmUwVjPq1AGhsJAAAAAAAASUARZ2ZmZmbmTUAhCD2bVd8hskAaGwlnZmZmZuZNQBFnZmZmZmZRQCE2Yej+F4GgQBobCWdmZmZmZlFAEZqZmZmZ2VNAIehFAEpWA4FAGhsJmpmZmZnZU0ARzczMzMxMVkAhfW3qKV+hbUAaGwnNzMzMzExWQBEAAAAAAMBYQCFZPxAzDjBkQEKkAhobCQAAAAAAAPA/EQAAAAAAADhAIZqZmZmZhq5AGhsJAAAAAAAAOEARAAAAAACAQUAhmpmZmZmGrkAaGwkAAAAAAIBBQBEAAAAAAABEQCGamZmZmYauQBobCQAAAAAAAERAEQAAAAAAAERAIZqZmZmZhq5AGhsJAAAAAAAAREARAAAAAAAAREAhmpmZmZmGrkAaGwkAAAAAAABEQBEAAAAAAABEQCGamZmZmYauQBobCQAAAAAAAERAEQAAAAAAAERAIZqZmZmZhq5AGhsJAAAAAAAAREARAAAAAAAASEAhmpmZmZmGrkAaGwkAAAAAAABIQBEAAAAAAIBLQCGamZmZmYauQBobCQAAAAAAgEtAEQAAAAAAwFhAIZqZmZmZhq5AIAFCEAoOaG91cnMtcGVyLXdlZWsaiA4QAiLxDQq4AgihsQIYASABLQAAgD8ypAIaGwkAAAAAAADwPxEAAAAAAADwPyGamZmZmYauQBobCQAAAAAAAPA/EQAAAAAAAPA/IZqZmZmZhq5AGhsJAAAAAAAA8D8RAAAAAAAA8D8hmpmZmZmGrkAaGwkAAAAAAADwPxEAAAAAAADwPyGamZmZmYauQBobCQAAAAAAAPA/EQAAAAAAAPA/IZqZmZmZhq5AGhsJAAAAAAAA8D8RAAAAAAAA8D8hmpmZmZmGrkAaGwkAAAAAAADwPxEAAAAAAADwPyGamZmZmYauQBobCQAAAAAAAPA/EQAAAAAAAPA/IZqZmZmZhq5AGhsJAAAAAAAA8D8RAAAAAAAA8D8hmpmZmZmGrkAaGwkAAAAAAADwPxEAAAAAAADwPyGamZmZmYauQCABQKGxAhAqGhgSDVVuaXRlZC1TdGF0ZXMZAAAAAKAg4UAaERIGTWV4aWNvGQAAAAAAaIdAGgwSAT8ZAAAAAABYhUAaFhILUGhpbGlwcGluZXMZAAAAAACAbUAaEhIHR2VybWFueRkAAAAAAIBkQBoWEgtQdWVydG8tUmljbxkAAAAAAMBjQBoREgZDYW5hZGEZAAAAAABAY0AaFhILRWwtU2FsdmFkb3IZAAAAAACAXEAaDxIEQ3ViYRkAAAAAAMBbQBoQEgVJbmRpYRkAAAAAAIBbQBoSEgdFbmdsYW5kGQAAAAAAwFpAGhASBUNoaW5hGQAAAAAAQFlAGhASBVNvdXRoGQAAAAAAgFdAGh0SEkRvbWluaWNhbi1SZXB1YmxpYxkAAAAAAMBUQBoQEgVJdGFseRkAAAAAAIBUQBoSEgdKYW1haWNhGQAAAAAAAFRAGhASBUphcGFuGQAAAAAAwFJAGhESBlBvbGFuZBkAAAAAAIBSQBoUEglHdWF0ZW1hbGEZAAAAAABAUkAaEBIFSGFpdGkZAAAAAADAUEAlxPBEQSqVCAoYIg1Vbml0ZWQtU3RhdGVzKQAAAACgIOFAChUIARABIgZNZXhpY28pAAAAAABoh0AKEAgCEAIiAT8pAAAAAABYhUAKGggDEAMiC1BoaWxpcHBpbmVzKQAAAAAAgG1AChYIBBAEIgdHZXJtYW55KQAAAAAAgGRAChoIBRAFIgtQdWVydG8tUmljbykAAAAAAMBjQAoVCAYQBiIGQ2FuYWRhKQAAAAAAQGNAChoIBxAHIgtFbC1TYWx2YWRvcikAAAAAAIBcQAoTCAgQCCIEQ3ViYSkAAAAAAMBbQAoUCAkQCSIFSW5kaWEpAAAAAACAW0AKFggKEAoiB0VuZ2xhbmQpAAAAAADAWkAKFAgLEAsiBUNoaW5hKQAAAAAAQFlAChQIDBAMIgVTb3V0aCkAAAAAAIBXQAohCA0QDSISRG9taW5pY2FuLVJlcHVibGljKQAAAAAAwFRAChQIDhAOIgVJdGFseSkAAAAAAIBUQAoWCA8QDyIHSmFtYWljYSkAAAAAAABUQAoUCBAQECIFSmFwYW4pAAAAAADAUkAKFQgREBEiBlBvbGFuZCkAAAAAAIBSQAoYCBIQEiIJR3VhdGVtYWxhKQAAAAAAQFJAChQIExATIgVIYWl0aSkAAAAAAMBQQAoWCBQQFCIHVmlldG5hbSkAAAAAAIBQQAoXCBUQFSIIQ29sdW1iaWEpAAAAAABAUEAKFwgWEBYiCFBvcnR1Z2FsKQAAAAAAgExAChUIFxAXIgZUYWl3YW4pAAAAAACASUAKEwgYEBgiBElyYW4pAAAAAAAASUAKFQgZEBkiBkdyZWVjZSkAAAAAAABFQAoYCBoQGiIJTmljYXJhZ3VhKQAAAAAAgEJAChYIGxAbIgdFY3VhZG9yKQAAAAAAAEJAChMIHBAcIgRQZXJ1KQAAAAAAgEBAChYIHRAdIgdJcmVsYW5kKQAAAAAAAEBAChUIHhAeIgZGcmFuY2UpAAAAAAAAPEAKFwgfEB8iCFRoYWlsYW5kKQAAAAAAADpAChcIIBAgIghDYW1ib2RpYSkAAAAAAAA5QAoTCCEQISIESG9uZykAAAAAAAA0QAoeCCIQIiIPVHJpbmFkYWQmVG9iYWdvKQAAAAAAADJAChcIIxAjIghTY290bGFuZCkAAAAAAAAyQAoZCCQQJCIKWXVnb3NsYXZpYSkAAAAAAAAxQAopCCUQJSIaT3V0bHlpbmctVVMoR3VhbS1VU1ZJLWV0YykpAAAAAAAAMUAKFggmECYiB0h1bmdhcnkpAAAAAAAALkAKFwgnECciCEhvbmR1cmFzKQAAAAAAAC5AChMIKBAoIgRMYW9zKQAAAAAAAChACiEIKRApIhJIb2xhbmQtTmV0aGVybGFuZHMpAAAAAAAA8D9CEAoObmF0aXZlLWNvdW50cnkanQMQAiKOAwq4AgihsQIYASABLQAAgD8ypAIaGwkAAAAAAADwPxEAAAAAAADwPyGamZmZmYauQBobCQAAAAAAAPA/EQAAAAAAAPA/IZqZmZmZhq5AGhsJAAAAAAAA8D8RAAAAAAAA8D8hmpmZmZmGrkAaGwkAAAAAAADwPxEAAAAAAADwPyGamZmZmYauQBobCQAAAAAAAPA/EQAAAAAAAPA/IZqZmZmZhq5AGhsJAAAAAAAA8D8RAAAAAAAA8D8hmpmZmZmGrkAaGwkAAAAAAADwPxEAAAAAAADwPyGamZmZmYauQBobCQAAAAAAAPA/EQAAAAAAAPA/IZqZmZmZhq5AGhsJAAAAAAAA8D8RAAAAAAAA8D8hmpmZmZmGrkAaGwkAAAAAAADwPxEAAAAAAADwPyGamZmZmYauQCABQKGxAhACGhASBTw9NTBLGQAAAACAF91AGg8SBD41MEsZAAAAAIAhwkAlvWWYQConChAiBTw9NTBLKQAAAACAF91AChMIARABIgQ+NTBLKQAAAACAIcJAQggKBmluY29tZQ==\"></facets-overview>';\n",
       "        facets_iframe.srcdoc = facets_html;\n",
       "         facets_iframe.id = \"\";\n",
       "         setTimeout(() => {\n",
       "           facets_iframe.setAttribute('height', facets_iframe.contentWindow.document.body.offsetHeight + 'px')\n",
       "         }, 1500)\n",
       "         </script>"
      ],
      "text/plain": [
       "<IPython.core.display.HTML object>"
      ]
     },
     "metadata": {},
     "output_type": "display_data"
    }
   ],
   "source": [
    "# Visualize training dataset statistics\n",
    "tfdv.visualize_statistics(train_stats)"
   ]
  },
  {
   "cell_type": "markdown",
   "metadata": {
    "id": "DVQTOBpdgPU0"
   },
   "source": [
    "## Infer data schema"
   ]
  },
  {
   "cell_type": "markdown",
   "metadata": {
    "id": "Ya6ecHE9gPU1"
   },
   "source": [
    "Next step is to create a data schema to describe your train set. Simply put, a schema describes standard characteristics of your data such as column data types and expected data value range. The schema is created on a dataset that you consider as reference, and can be reused to validate other incoming datasets.\n",
    "\n",
    "With the computed statistics, TFDV allows you to automatically generate an initial version of the schema using the [`infer_schema()`](https://www.tensorflow.org/tfx/data_validation/api_docs/python/tfdv/infer_schema) method. This returns a Schema [protocol buffer](https://developers.google.com/protocol-buffers) containing the result. As mentioned in the [TFX paper](http://stevenwhang.com/tfx_paper.pdf) (Section 3.3), the results of the schema inference can be summarized as follows:\n",
    "\n",
    "* The expected type of each feature.\n",
    "* The expected presence of each feature, in terms of a minimum count and fraction of examples that must contain\n",
    "the feature.\n",
    "* The expected valency of the feature in each example, i.e.,\n",
    "minimum and maximum number of values.\n",
    "* The expected domain of a feature, i.e., the small universe of\n",
    "values for a string feature, or range for an integer feature.\n",
    "\n",
    "Run the cell below to infer the training dataset schema."
   ]
  },
  {
   "cell_type": "code",
   "execution_count": 38,
   "metadata": {
    "id": "W9skjM-M44Jz"
   },
   "outputs": [
    {
     "data": {
      "text/html": [
       "<div>\n",
       "<style scoped>\n",
       "    .dataframe tbody tr th:only-of-type {\n",
       "        vertical-align: middle;\n",
       "    }\n",
       "\n",
       "    .dataframe tbody tr th {\n",
       "        vertical-align: top;\n",
       "    }\n",
       "\n",
       "    .dataframe thead th {\n",
       "        text-align: right;\n",
       "    }\n",
       "</style>\n",
       "<table border=\"1\" class=\"dataframe\">\n",
       "  <thead>\n",
       "    <tr style=\"text-align: right;\">\n",
       "      <th></th>\n",
       "      <th>Type</th>\n",
       "      <th>Presence</th>\n",
       "      <th>Valency</th>\n",
       "      <th>Domain</th>\n",
       "    </tr>\n",
       "    <tr>\n",
       "      <th>Feature name</th>\n",
       "      <th></th>\n",
       "      <th></th>\n",
       "      <th></th>\n",
       "      <th></th>\n",
       "    </tr>\n",
       "  </thead>\n",
       "  <tbody>\n",
       "    <tr>\n",
       "      <th>'age'</th>\n",
       "      <td>INT</td>\n",
       "      <td>required</td>\n",
       "      <td></td>\n",
       "      <td>-</td>\n",
       "    </tr>\n",
       "    <tr>\n",
       "      <th>'workclass'</th>\n",
       "      <td>STRING</td>\n",
       "      <td>required</td>\n",
       "      <td></td>\n",
       "      <td>'workclass'</td>\n",
       "    </tr>\n",
       "    <tr>\n",
       "      <th>'fnlwgt'</th>\n",
       "      <td>INT</td>\n",
       "      <td>required</td>\n",
       "      <td></td>\n",
       "      <td>-</td>\n",
       "    </tr>\n",
       "    <tr>\n",
       "      <th>'education'</th>\n",
       "      <td>STRING</td>\n",
       "      <td>required</td>\n",
       "      <td></td>\n",
       "      <td>'education'</td>\n",
       "    </tr>\n",
       "    <tr>\n",
       "      <th>'educational-num'</th>\n",
       "      <td>INT</td>\n",
       "      <td>required</td>\n",
       "      <td></td>\n",
       "      <td>-</td>\n",
       "    </tr>\n",
       "    <tr>\n",
       "      <th>'marital-status'</th>\n",
       "      <td>STRING</td>\n",
       "      <td>required</td>\n",
       "      <td></td>\n",
       "      <td>'marital-status'</td>\n",
       "    </tr>\n",
       "    <tr>\n",
       "      <th>'occupation'</th>\n",
       "      <td>STRING</td>\n",
       "      <td>required</td>\n",
       "      <td></td>\n",
       "      <td>'occupation'</td>\n",
       "    </tr>\n",
       "    <tr>\n",
       "      <th>'relationship'</th>\n",
       "      <td>STRING</td>\n",
       "      <td>required</td>\n",
       "      <td></td>\n",
       "      <td>'relationship'</td>\n",
       "    </tr>\n",
       "    <tr>\n",
       "      <th>'race'</th>\n",
       "      <td>STRING</td>\n",
       "      <td>required</td>\n",
       "      <td></td>\n",
       "      <td>'race'</td>\n",
       "    </tr>\n",
       "    <tr>\n",
       "      <th>'gender'</th>\n",
       "      <td>STRING</td>\n",
       "      <td>required</td>\n",
       "      <td></td>\n",
       "      <td>'gender'</td>\n",
       "    </tr>\n",
       "    <tr>\n",
       "      <th>'capital-gain'</th>\n",
       "      <td>INT</td>\n",
       "      <td>required</td>\n",
       "      <td></td>\n",
       "      <td>-</td>\n",
       "    </tr>\n",
       "    <tr>\n",
       "      <th>'capital-loss'</th>\n",
       "      <td>INT</td>\n",
       "      <td>required</td>\n",
       "      <td></td>\n",
       "      <td>-</td>\n",
       "    </tr>\n",
       "    <tr>\n",
       "      <th>'hours-per-week'</th>\n",
       "      <td>INT</td>\n",
       "      <td>required</td>\n",
       "      <td></td>\n",
       "      <td>-</td>\n",
       "    </tr>\n",
       "    <tr>\n",
       "      <th>'native-country'</th>\n",
       "      <td>STRING</td>\n",
       "      <td>required</td>\n",
       "      <td></td>\n",
       "      <td>'native-country'</td>\n",
       "    </tr>\n",
       "    <tr>\n",
       "      <th>'income'</th>\n",
       "      <td>STRING</td>\n",
       "      <td>required</td>\n",
       "      <td></td>\n",
       "      <td>'income'</td>\n",
       "    </tr>\n",
       "  </tbody>\n",
       "</table>\n",
       "</div>"
      ],
      "text/plain": [
       "                     Type  Presence Valency            Domain\n",
       "Feature name                                                 \n",
       "'age'                 INT  required                         -\n",
       "'workclass'        STRING  required               'workclass'\n",
       "'fnlwgt'              INT  required                         -\n",
       "'education'        STRING  required               'education'\n",
       "'educational-num'     INT  required                         -\n",
       "'marital-status'   STRING  required          'marital-status'\n",
       "'occupation'       STRING  required              'occupation'\n",
       "'relationship'     STRING  required            'relationship'\n",
       "'race'             STRING  required                    'race'\n",
       "'gender'           STRING  required                  'gender'\n",
       "'capital-gain'        INT  required                         -\n",
       "'capital-loss'        INT  required                         -\n",
       "'hours-per-week'      INT  required                         -\n",
       "'native-country'   STRING  required          'native-country'\n",
       "'income'           STRING  required                  'income'"
      ]
     },
     "metadata": {},
     "output_type": "display_data"
    },
    {
     "data": {
      "text/html": [
       "<div>\n",
       "<style scoped>\n",
       "    .dataframe tbody tr th:only-of-type {\n",
       "        vertical-align: middle;\n",
       "    }\n",
       "\n",
       "    .dataframe tbody tr th {\n",
       "        vertical-align: top;\n",
       "    }\n",
       "\n",
       "    .dataframe thead th {\n",
       "        text-align: right;\n",
       "    }\n",
       "</style>\n",
       "<table border=\"1\" class=\"dataframe\">\n",
       "  <thead>\n",
       "    <tr style=\"text-align: right;\">\n",
       "      <th></th>\n",
       "      <th>Values</th>\n",
       "    </tr>\n",
       "    <tr>\n",
       "      <th>Domain</th>\n",
       "      <th></th>\n",
       "    </tr>\n",
       "  </thead>\n",
       "  <tbody>\n",
       "    <tr>\n",
       "      <th>'workclass'</th>\n",
       "      <td>'?', 'Federal-gov', 'Local-gov', 'Never-worked', 'Private', 'Self-emp-inc', 'Self-emp-not-inc', 'State-gov', 'Without-pay'</td>\n",
       "    </tr>\n",
       "    <tr>\n",
       "      <th>'education'</th>\n",
       "      <td>'10th', '11th', '12th', '1st-4th', '5th-6th', '7th-8th', '9th', 'Assoc-acdm', 'Assoc-voc', 'Bachelors', 'Doctorate', 'HS-grad', 'Masters', 'Preschool', 'Prof-school', 'Some-college'</td>\n",
       "    </tr>\n",
       "    <tr>\n",
       "      <th>'marital-status'</th>\n",
       "      <td>'Divorced', 'Married-AF-spouse', 'Married-civ-spouse', 'Married-spouse-absent', 'Never-married', 'Separated', 'Widowed'</td>\n",
       "    </tr>\n",
       "    <tr>\n",
       "      <th>'occupation'</th>\n",
       "      <td>'?', 'Adm-clerical', 'Armed-Forces', 'Craft-repair', 'Exec-managerial', 'Farming-fishing', 'Handlers-cleaners', 'Machine-op-inspct', 'Other-service', 'Priv-house-serv', 'Prof-specialty', 'Protective-serv', 'Sales', 'Tech-support', 'Transport-moving'</td>\n",
       "    </tr>\n",
       "    <tr>\n",
       "      <th>'relationship'</th>\n",
       "      <td>'Husband', 'Not-in-family', 'Other-relative', 'Own-child', 'Unmarried', 'Wife'</td>\n",
       "    </tr>\n",
       "    <tr>\n",
       "      <th>'race'</th>\n",
       "      <td>'Amer-Indian-Eskimo', 'Asian-Pac-Islander', 'Black', 'Other', 'White'</td>\n",
       "    </tr>\n",
       "    <tr>\n",
       "      <th>'gender'</th>\n",
       "      <td>'Female', 'Male'</td>\n",
       "    </tr>\n",
       "    <tr>\n",
       "      <th>'native-country'</th>\n",
       "      <td>'?', 'Cambodia', 'Canada', 'China', 'Columbia', 'Cuba', 'Dominican-Republic', 'Ecuador', 'El-Salvador', 'England', 'France', 'Germany', 'Greece', 'Guatemala', 'Haiti', 'Holand-Netherlands', 'Honduras', 'Hong', 'Hungary', 'India', 'Iran', 'Ireland', 'Italy', 'Jamaica', 'Japan', 'Laos', 'Mexico', 'Nicaragua', 'Outlying-US(Guam-USVI-etc)', 'Peru', 'Philippines', 'Poland', 'Portugal', 'Puerto-Rico', 'Scotland', 'South', 'Taiwan', 'Thailand', 'Trinadad&amp;Tobago', 'United-States', 'Vietnam', 'Yugoslavia'</td>\n",
       "    </tr>\n",
       "    <tr>\n",
       "      <th>'income'</th>\n",
       "      <td>'&lt;=50K', '&gt;50K'</td>\n",
       "    </tr>\n",
       "  </tbody>\n",
       "</table>\n",
       "</div>"
      ],
      "text/plain": [
       "                                                                                                                                                                                                                                                                                                                                                                                                                                                                                                                                 Values\n",
       "Domain                                                                                                                                                                                                                                                                                                                                                                                                                                                                                                                                 \n",
       "'workclass'                                                                                                                                                                                                                                                                                                                                                                                                  '?', 'Federal-gov', 'Local-gov', 'Never-worked', 'Private', 'Self-emp-inc', 'Self-emp-not-inc', 'State-gov', 'Without-pay'\n",
       "'education'                                                                                                                                                                                                                                                                                                                                       '10th', '11th', '12th', '1st-4th', '5th-6th', '7th-8th', '9th', 'Assoc-acdm', 'Assoc-voc', 'Bachelors', 'Doctorate', 'HS-grad', 'Masters', 'Preschool', 'Prof-school', 'Some-college'\n",
       "'marital-status'                                                                                                                                                                                                                                                                                                                                                                                                'Divorced', 'Married-AF-spouse', 'Married-civ-spouse', 'Married-spouse-absent', 'Never-married', 'Separated', 'Widowed'\n",
       "'occupation'                                                                                                                                                                                                                                                                  '?', 'Adm-clerical', 'Armed-Forces', 'Craft-repair', 'Exec-managerial', 'Farming-fishing', 'Handlers-cleaners', 'Machine-op-inspct', 'Other-service', 'Priv-house-serv', 'Prof-specialty', 'Protective-serv', 'Sales', 'Tech-support', 'Transport-moving'\n",
       "'relationship'                                                                                                                                                                                                                                                                                                                                                                                                                                           'Husband', 'Not-in-family', 'Other-relative', 'Own-child', 'Unmarried', 'Wife'\n",
       "'race'                                                                                                                                                                                                                                                                                                                                                                                                                                                            'Amer-Indian-Eskimo', 'Asian-Pac-Islander', 'Black', 'Other', 'White'\n",
       "'gender'                                                                                                                                                                                                                                                                                                                                                                                                                                                                                                               'Female', 'Male'\n",
       "'native-country'  '?', 'Cambodia', 'Canada', 'China', 'Columbia', 'Cuba', 'Dominican-Republic', 'Ecuador', 'El-Salvador', 'England', 'France', 'Germany', 'Greece', 'Guatemala', 'Haiti', 'Holand-Netherlands', 'Honduras', 'Hong', 'Hungary', 'India', 'Iran', 'Ireland', 'Italy', 'Jamaica', 'Japan', 'Laos', 'Mexico', 'Nicaragua', 'Outlying-US(Guam-USVI-etc)', 'Peru', 'Philippines', 'Poland', 'Portugal', 'Puerto-Rico', 'Scotland', 'South', 'Taiwan', 'Thailand', 'Trinadad&Tobago', 'United-States', 'Vietnam', 'Yugoslavia'\n",
       "'income'                                                                                                                                                                                                                                                                                                                                                                                                                                                                                                                '<=50K', '>50K'"
      ]
     },
     "metadata": {},
     "output_type": "display_data"
    }
   ],
   "source": [
    "# Infer schema from the computed statistics.\n",
    "schema = tfdv.infer_schema(statistics=train_stats)\n",
    "\n",
    "# Display the inferred schema\n",
    "tfdv.display_schema(schema)"
   ]
  },
  {
   "cell_type": "markdown",
   "metadata": {
    "id": "5oj_GIprgPU1"
   },
   "source": [
    "## Generate and visualize evaluation dataset statistics"
   ]
  },
  {
   "cell_type": "markdown",
   "metadata": {
    "id": "rTYMPukogPU1"
   },
   "source": [
    "The next step after generating the schema is to now look at the evaluation dataset. You will begin by computing its statistics then compare it with the training statistics. It is important that the numerical and categorical features of the evaluation data belongs roughly to the same range as the training data. Otherwise, you might have distribution skew that will negatively affect the accuracy of your model.\n",
    "\n",
    "TFDV allows you to generate both the training and evaluation dataset statistics side-by-side. You can use the [`visualize_statistics()`](https://www.tensorflow.org/tfx/data_validation/api_docs/python/tfdv/visualize_statistics) function and pass additional parameters to overlay the statistics from both datasets (referenced as left-hand side and right-hand side statistics). Let's see what these parameters are:\n",
    "\n",
    "- `lhs_statistics`: Required parameter. Expects an instance of `DatasetFeatureStatisticsList `.\n",
    "\n",
    "\n",
    "- `rhs_statistics`: Expects an instance of `DatasetFeatureStatisticsList ` to compare with `lhs_statistics`.\n",
    "\n",
    "\n",
    "- `lhs_name`: Name of the `lhs_statistics` dataset.\n",
    "\n",
    "\n",
    "- `rhs_name`: Name of the `rhs_statistics` dataset."
   ]
  },
  {
   "cell_type": "code",
   "execution_count": 39,
   "metadata": {
    "id": "bzZy1x3c6Mi0",
    "scrolled": true
   },
   "outputs": [
    {
     "data": {
      "text/html": [
       "<iframe id='facets-iframe' width=\"100%\" height=\"500px\"></iframe>\n",
       "        <script>\n",
       "        facets_iframe = document.getElementById('facets-iframe');\n",
       "        facets_html = '<script src=\"https://cdnjs.cloudflare.com/ajax/libs/webcomponentsjs/1.3.3/webcomponents-lite.js\"><\\/script><link rel=\"import\" href=\"https://raw.githubusercontent.com/PAIR-code/facets/master/facets-dist/facets-jupyter.html\"><facets-overview proto-input=\"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\"></facets-overview>';\n",
       "        facets_iframe.srcdoc = facets_html;\n",
       "         facets_iframe.id = \"\";\n",
       "         setTimeout(() => {\n",
       "           facets_iframe.setAttribute('height', facets_iframe.contentWindow.document.body.offsetHeight + 'px')\n",
       "         }, 1500)\n",
       "         </script>"
      ],
      "text/plain": [
       "<IPython.core.display.HTML object>"
      ]
     },
     "metadata": {},
     "output_type": "display_data"
    }
   ],
   "source": [
    "# Generate evaluation dataset statistics\n",
    "eval_stats = tfdv.generate_statistics_from_dataframe(eval_df)\n",
    "\n",
    "# Compare training with evaluation\n",
    "tfdv.visualize_statistics(\n",
    "    lhs_statistics=eval_stats, \n",
    "    rhs_statistics=train_stats, \n",
    "    lhs_name='EVAL_DATASET', \n",
    "    rhs_name='TRAIN_DATASET'\n",
    ")"
   ]
  },
  {
   "cell_type": "markdown",
   "metadata": {
    "id": "GODDgoHdgPU2"
   },
   "source": [
    "We encourage you to observe the results generated and toggle the menus to practice manipulating the visualization (e.g. sort by missing/zeroes). You'll notice that TFDV detects the malformed rows we introduced earlier. First, the `min` and `max` values of the `age` row shows `0` and `1000`, respectively. We know that those values do not make sense if we're talking about working adults. Secondly, the `workclass` row in the Categorical Features says that `0.02%` of the data is missing that particular attribute. Let's drop these rows to make the data more clean."
   ]
  },
  {
   "cell_type": "code",
   "execution_count": 52,
   "metadata": {},
   "outputs": [
    {
     "name": "stdout",
     "output_type": "stream",
     "text": [
      "9769 (9769, 15)\n",
      "9769 (9769, 15)\n"
     ]
    }
   ],
   "source": [
    "print(len(eval_df), eval_df.shape)\n",
    "eval_df.dropna(inplace=True)\n",
    "print(len(eval_df), eval_df.shape)\n"
   ]
  },
  {
   "cell_type": "code",
   "execution_count": 53,
   "metadata": {},
   "outputs": [
    {
     "name": "stdout",
     "output_type": "stream",
     "text": [
      "eval_df before dropping (9769, 15)\n",
      "eval_df after dropping (9769, 15)\n"
     ]
    }
   ],
   "source": [
    "print(f\"eval_df before dropping {eval_df.shape}\")\n",
    "# filter the age range\n",
    "# eval_df_temp = eval_df[eval_df['age'] > 16]\n",
    "eval_df_temp = eval_df[eval_df['age'] < 91]\n",
    "\n",
    "# drop missing values\n",
    "eval_df.dropna(inplace=True)\n",
    "print(f\"eval_df after dropping {eval_df_temp.shape}\")"
   ]
  },
  {
   "cell_type": "markdown",
   "metadata": {},
   "source": [
    "You can then compute the statistics again and see the difference in the results."
   ]
  },
  {
   "cell_type": "code",
   "execution_count": 54,
   "metadata": {},
   "outputs": [
    {
     "data": {
      "text/html": [
       "<iframe id='facets-iframe' width=\"100%\" height=\"500px\"></iframe>\n",
       "        <script>\n",
       "        facets_iframe = document.getElementById('facets-iframe');\n",
       "        facets_html = '<script src=\"https://cdnjs.cloudflare.com/ajax/libs/webcomponentsjs/1.3.3/webcomponents-lite.js\"><\\/script><link rel=\"import\" href=\"https://raw.githubusercontent.com/PAIR-code/facets/master/facets-dist/facets-jupyter.html\"><facets-overview proto-input=\"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\"></facets-overview>';\n",
       "        facets_iframe.srcdoc = facets_html;\n",
       "         facets_iframe.id = \"\";\n",
       "         setTimeout(() => {\n",
       "           facets_iframe.setAttribute('height', facets_iframe.contentWindow.document.body.offsetHeight + 'px')\n",
       "         }, 1500)\n",
       "         </script>"
      ],
      "text/plain": [
       "<IPython.core.display.HTML object>"
      ]
     },
     "metadata": {},
     "output_type": "display_data"
    }
   ],
   "source": [
    "# Generate evaluation dataset statistics\n",
    "eval_stats = tfdv.generate_statistics_from_dataframe(eval_df)\n",
    "\n",
    "# Compare training with evaluation\n",
    "tfdv.visualize_statistics(\n",
    "    lhs_statistics=eval_stats, \n",
    "    rhs_statistics=train_stats, \n",
    "    lhs_name='EVAL_DATASET', \n",
    "    rhs_name='TRAIN_DATASET'\n",
    ")"
   ]
  },
  {
   "cell_type": "markdown",
   "metadata": {
    "id": "J3Lvnr-YgPU2"
   },
   "source": [
    "## Calculate and display evaluation anomalies"
   ]
  },
  {
   "cell_type": "markdown",
   "metadata": {
    "id": "D1D9bNcigPU2"
   },
   "source": [
    "You can use your reference schema to check for anomalies such as new values for a specific feature in the evaluation data. Detected anomalies can either be considered a real error that needs to be cleaned, or depending on your domain knowledge and the specific case, they can be accepted. \n",
    "\n",
    "Let's detect and display evaluation anomalies and see if there are any problems that need to be addressed."
   ]
  },
  {
   "cell_type": "code",
   "execution_count": 55,
   "metadata": {
    "id": "OR5dBqpW6ky2"
   },
   "outputs": [
    {
     "data": {
      "text/html": [
       "<h4 style=\"color:green;\">No anomalies found.</h4>"
      ],
      "text/plain": [
       "<IPython.core.display.HTML object>"
      ]
     },
     "metadata": {},
     "output_type": "display_data"
    }
   ],
   "source": [
    "# Check evaluation data for errors by validating the evaluation dataset statistics using the reference schema\n",
    "anomalies =  tfdv.validate_statistics(statistics=eval_stats, schema=schema)\n",
    "\n",
    "# Visualize anomalies\n",
    "tfdv.display_anomalies(anomalies)"
   ]
  },
  {
   "cell_type": "markdown",
   "metadata": {
    "id": "HeEvhvgqzLu-"
   },
   "source": [
    "## Revising the Schema\n",
    "\n",
    "As shown in the results above, TFDV is able to detect the remaining irregularities we introduced earlier. The short and long descriptions tell us what were detected. As expected, there are string values for `race`, `native-country` and `occupation` that are not found in the domain of the training set schema (you might see a different result if the shuffling of the datasets was applied). What you decide to do about the anomalies depend on your domain knowledge of the data. If an anomaly indicates a data error, then the underlying data should be fixed. Otherwise, you can update the schema to include the values in the evaluation dataset.\n",
    "\n",
    "TFDV provides a set of utility methods and parameters that you can use for revising the inferred schema. This [reference](https://www.tensorflow.org/tfx/data_validation/anomalies) lists down the type of anomalies and the parameters that you can edit but we'll focus only on a couple here.\n",
    "\n",
    "- You can relax the minimum fraction of values that must come from the domain of a particular feature (as described by `ENUM_TYPE_UNEXPECTED_STRING_VALUES` in the [reference](https://www.tensorflow.org/tfx/data_validation/anomalies)):\n",
    "\n",
    "```python\n",
    "tfdv.get_feature(schema, 'feature_column_name').distribution_constraints.min_domain_mass = <float: 0.0 to 1.0>\n",
    "```\n",
    "\n",
    "- You can add a new value to the domain of a particular feature:\n",
    "\n",
    "```python\n",
    "tfdv.get_domain(schema, 'feature_column_name').value.append('string')\n",
    "```\n",
    "\n",
    "Let's use these in the next section."
   ]
  },
  {
   "cell_type": "markdown",
   "metadata": {
    "id": "HKECg6Lf6-ks"
   },
   "source": [
    "## Fix anomalies in the schema\n",
    "\n",
    "Let's say that we want to accept the string anomalies reported as valid. If you want to tolerate a fraction of missing values from the evaluation dataset, you can do it like this:"
   ]
  },
  {
   "cell_type": "code",
   "execution_count": 56,
   "metadata": {},
   "outputs": [],
   "source": [
    "# Relax the minimum fraction of values that must come from the domain for the feature `native-country`\n",
    "country_feature = tfdv.get_feature(schema, 'native-country')\n",
    "country_feature.distribution_constraints.min_domain_mass = 0.9\n",
    "\n",
    "# Relax the minimum fraction of values that must come from the domain for the feature `occupation`\n",
    "occupation_feature = tfdv.get_feature(schema, 'occupation')\n",
    "occupation_feature.distribution_constraints.min_domain_mass = 0.9"
   ]
  },
  {
   "cell_type": "markdown",
   "metadata": {},
   "source": [
    "If you want to be rigid and instead add only valid values to the domain, you can do it like this:"
   ]
  },
  {
   "cell_type": "code",
   "execution_count": 57,
   "metadata": {
    "id": "hTCWS04p6lDh"
   },
   "outputs": [],
   "source": [
    "# Add new value to the domain of the feature `race`\n",
    "race_domain = tfdv.get_domain(schema, 'race')\n",
    "race_domain.value.append('Asian')"
   ]
  },
  {
   "cell_type": "markdown",
   "metadata": {},
   "source": [
    "In addition, you can also restrict the range of a numerical feature. This will let you know of invalid values without having to inspect it visually (e.g. the invalid `age` values earlier)."
   ]
  },
  {
   "cell_type": "code",
   "execution_count": 58,
   "metadata": {},
   "outputs": [
    {
     "data": {
      "text/html": [
       "<div>\n",
       "<style scoped>\n",
       "    .dataframe tbody tr th:only-of-type {\n",
       "        vertical-align: middle;\n",
       "    }\n",
       "\n",
       "    .dataframe tbody tr th {\n",
       "        vertical-align: top;\n",
       "    }\n",
       "\n",
       "    .dataframe thead th {\n",
       "        text-align: right;\n",
       "    }\n",
       "</style>\n",
       "<table border=\"1\" class=\"dataframe\">\n",
       "  <thead>\n",
       "    <tr style=\"text-align: right;\">\n",
       "      <th></th>\n",
       "      <th>Type</th>\n",
       "      <th>Presence</th>\n",
       "      <th>Valency</th>\n",
       "      <th>Domain</th>\n",
       "    </tr>\n",
       "    <tr>\n",
       "      <th>Feature name</th>\n",
       "      <th></th>\n",
       "      <th></th>\n",
       "      <th></th>\n",
       "      <th></th>\n",
       "    </tr>\n",
       "  </thead>\n",
       "  <tbody>\n",
       "    <tr>\n",
       "      <th>'age'</th>\n",
       "      <td>INT</td>\n",
       "      <td>required</td>\n",
       "      <td></td>\n",
       "      <td>min: 17; max: 90</td>\n",
       "    </tr>\n",
       "    <tr>\n",
       "      <th>'workclass'</th>\n",
       "      <td>STRING</td>\n",
       "      <td>required</td>\n",
       "      <td></td>\n",
       "      <td>'workclass'</td>\n",
       "    </tr>\n",
       "    <tr>\n",
       "      <th>'fnlwgt'</th>\n",
       "      <td>INT</td>\n",
       "      <td>required</td>\n",
       "      <td></td>\n",
       "      <td>-</td>\n",
       "    </tr>\n",
       "    <tr>\n",
       "      <th>'education'</th>\n",
       "      <td>STRING</td>\n",
       "      <td>required</td>\n",
       "      <td></td>\n",
       "      <td>'education'</td>\n",
       "    </tr>\n",
       "    <tr>\n",
       "      <th>'educational-num'</th>\n",
       "      <td>INT</td>\n",
       "      <td>required</td>\n",
       "      <td></td>\n",
       "      <td>-</td>\n",
       "    </tr>\n",
       "    <tr>\n",
       "      <th>'marital-status'</th>\n",
       "      <td>STRING</td>\n",
       "      <td>required</td>\n",
       "      <td></td>\n",
       "      <td>'marital-status'</td>\n",
       "    </tr>\n",
       "    <tr>\n",
       "      <th>'occupation'</th>\n",
       "      <td>STRING</td>\n",
       "      <td>required</td>\n",
       "      <td></td>\n",
       "      <td>'occupation'</td>\n",
       "    </tr>\n",
       "    <tr>\n",
       "      <th>'relationship'</th>\n",
       "      <td>STRING</td>\n",
       "      <td>required</td>\n",
       "      <td></td>\n",
       "      <td>'relationship'</td>\n",
       "    </tr>\n",
       "    <tr>\n",
       "      <th>'race'</th>\n",
       "      <td>STRING</td>\n",
       "      <td>required</td>\n",
       "      <td></td>\n",
       "      <td>'race'</td>\n",
       "    </tr>\n",
       "    <tr>\n",
       "      <th>'gender'</th>\n",
       "      <td>STRING</td>\n",
       "      <td>required</td>\n",
       "      <td></td>\n",
       "      <td>'gender'</td>\n",
       "    </tr>\n",
       "    <tr>\n",
       "      <th>'capital-gain'</th>\n",
       "      <td>INT</td>\n",
       "      <td>required</td>\n",
       "      <td></td>\n",
       "      <td>-</td>\n",
       "    </tr>\n",
       "    <tr>\n",
       "      <th>'capital-loss'</th>\n",
       "      <td>INT</td>\n",
       "      <td>required</td>\n",
       "      <td></td>\n",
       "      <td>-</td>\n",
       "    </tr>\n",
       "    <tr>\n",
       "      <th>'hours-per-week'</th>\n",
       "      <td>INT</td>\n",
       "      <td>required</td>\n",
       "      <td></td>\n",
       "      <td>-</td>\n",
       "    </tr>\n",
       "    <tr>\n",
       "      <th>'native-country'</th>\n",
       "      <td>STRING</td>\n",
       "      <td>required</td>\n",
       "      <td></td>\n",
       "      <td>'native-country'</td>\n",
       "    </tr>\n",
       "    <tr>\n",
       "      <th>'income'</th>\n",
       "      <td>STRING</td>\n",
       "      <td>required</td>\n",
       "      <td></td>\n",
       "      <td>'income'</td>\n",
       "    </tr>\n",
       "  </tbody>\n",
       "</table>\n",
       "</div>"
      ],
      "text/plain": [
       "                     Type  Presence Valency            Domain\n",
       "Feature name                                                 \n",
       "'age'                 INT  required          min: 17; max: 90\n",
       "'workclass'        STRING  required               'workclass'\n",
       "'fnlwgt'              INT  required                         -\n",
       "'education'        STRING  required               'education'\n",
       "'educational-num'     INT  required                         -\n",
       "'marital-status'   STRING  required          'marital-status'\n",
       "'occupation'       STRING  required              'occupation'\n",
       "'relationship'     STRING  required            'relationship'\n",
       "'race'             STRING  required                    'race'\n",
       "'gender'           STRING  required                  'gender'\n",
       "'capital-gain'        INT  required                         -\n",
       "'capital-loss'        INT  required                         -\n",
       "'hours-per-week'      INT  required                         -\n",
       "'native-country'   STRING  required          'native-country'\n",
       "'income'           STRING  required                  'income'"
      ]
     },
     "metadata": {},
     "output_type": "display_data"
    },
    {
     "data": {
      "text/html": [
       "<div>\n",
       "<style scoped>\n",
       "    .dataframe tbody tr th:only-of-type {\n",
       "        vertical-align: middle;\n",
       "    }\n",
       "\n",
       "    .dataframe tbody tr th {\n",
       "        vertical-align: top;\n",
       "    }\n",
       "\n",
       "    .dataframe thead th {\n",
       "        text-align: right;\n",
       "    }\n",
       "</style>\n",
       "<table border=\"1\" class=\"dataframe\">\n",
       "  <thead>\n",
       "    <tr style=\"text-align: right;\">\n",
       "      <th></th>\n",
       "      <th>Values</th>\n",
       "    </tr>\n",
       "    <tr>\n",
       "      <th>Domain</th>\n",
       "      <th></th>\n",
       "    </tr>\n",
       "  </thead>\n",
       "  <tbody>\n",
       "    <tr>\n",
       "      <th>'workclass'</th>\n",
       "      <td>'?', 'Federal-gov', 'Local-gov', 'Never-worked', 'Private', 'Self-emp-inc', 'Self-emp-not-inc', 'State-gov', 'Without-pay'</td>\n",
       "    </tr>\n",
       "    <tr>\n",
       "      <th>'education'</th>\n",
       "      <td>'10th', '11th', '12th', '1st-4th', '5th-6th', '7th-8th', '9th', 'Assoc-acdm', 'Assoc-voc', 'Bachelors', 'Doctorate', 'HS-grad', 'Masters', 'Preschool', 'Prof-school', 'Some-college'</td>\n",
       "    </tr>\n",
       "    <tr>\n",
       "      <th>'marital-status'</th>\n",
       "      <td>'Divorced', 'Married-AF-spouse', 'Married-civ-spouse', 'Married-spouse-absent', 'Never-married', 'Separated', 'Widowed'</td>\n",
       "    </tr>\n",
       "    <tr>\n",
       "      <th>'occupation'</th>\n",
       "      <td>'?', 'Adm-clerical', 'Armed-Forces', 'Craft-repair', 'Exec-managerial', 'Farming-fishing', 'Handlers-cleaners', 'Machine-op-inspct', 'Other-service', 'Priv-house-serv', 'Prof-specialty', 'Protective-serv', 'Sales', 'Tech-support', 'Transport-moving'</td>\n",
       "    </tr>\n",
       "    <tr>\n",
       "      <th>'relationship'</th>\n",
       "      <td>'Husband', 'Not-in-family', 'Other-relative', 'Own-child', 'Unmarried', 'Wife'</td>\n",
       "    </tr>\n",
       "    <tr>\n",
       "      <th>'race'</th>\n",
       "      <td>'Amer-Indian-Eskimo', 'Asian-Pac-Islander', 'Black', 'Other', 'White', 'Asian'</td>\n",
       "    </tr>\n",
       "    <tr>\n",
       "      <th>'gender'</th>\n",
       "      <td>'Female', 'Male'</td>\n",
       "    </tr>\n",
       "    <tr>\n",
       "      <th>'native-country'</th>\n",
       "      <td>'?', 'Cambodia', 'Canada', 'China', 'Columbia', 'Cuba', 'Dominican-Republic', 'Ecuador', 'El-Salvador', 'England', 'France', 'Germany', 'Greece', 'Guatemala', 'Haiti', 'Holand-Netherlands', 'Honduras', 'Hong', 'Hungary', 'India', 'Iran', 'Ireland', 'Italy', 'Jamaica', 'Japan', 'Laos', 'Mexico', 'Nicaragua', 'Outlying-US(Guam-USVI-etc)', 'Peru', 'Philippines', 'Poland', 'Portugal', 'Puerto-Rico', 'Scotland', 'South', 'Taiwan', 'Thailand', 'Trinadad&amp;Tobago', 'United-States', 'Vietnam', 'Yugoslavia'</td>\n",
       "    </tr>\n",
       "    <tr>\n",
       "      <th>'income'</th>\n",
       "      <td>'&lt;=50K', '&gt;50K'</td>\n",
       "    </tr>\n",
       "  </tbody>\n",
       "</table>\n",
       "</div>"
      ],
      "text/plain": [
       "                                                                                                                                                                                                                                                                                                                                                                                                                                                                                                                                 Values\n",
       "Domain                                                                                                                                                                                                                                                                                                                                                                                                                                                                                                                                 \n",
       "'workclass'                                                                                                                                                                                                                                                                                                                                                                                                  '?', 'Federal-gov', 'Local-gov', 'Never-worked', 'Private', 'Self-emp-inc', 'Self-emp-not-inc', 'State-gov', 'Without-pay'\n",
       "'education'                                                                                                                                                                                                                                                                                                                                       '10th', '11th', '12th', '1st-4th', '5th-6th', '7th-8th', '9th', 'Assoc-acdm', 'Assoc-voc', 'Bachelors', 'Doctorate', 'HS-grad', 'Masters', 'Preschool', 'Prof-school', 'Some-college'\n",
       "'marital-status'                                                                                                                                                                                                                                                                                                                                                                                                'Divorced', 'Married-AF-spouse', 'Married-civ-spouse', 'Married-spouse-absent', 'Never-married', 'Separated', 'Widowed'\n",
       "'occupation'                                                                                                                                                                                                                                                                  '?', 'Adm-clerical', 'Armed-Forces', 'Craft-repair', 'Exec-managerial', 'Farming-fishing', 'Handlers-cleaners', 'Machine-op-inspct', 'Other-service', 'Priv-house-serv', 'Prof-specialty', 'Protective-serv', 'Sales', 'Tech-support', 'Transport-moving'\n",
       "'relationship'                                                                                                                                                                                                                                                                                                                                                                                                                                           'Husband', 'Not-in-family', 'Other-relative', 'Own-child', 'Unmarried', 'Wife'\n",
       "'race'                                                                                                                                                                                                                                                                                                                                                                                                                                                   'Amer-Indian-Eskimo', 'Asian-Pac-Islander', 'Black', 'Other', 'White', 'Asian'\n",
       "'gender'                                                                                                                                                                                                                                                                                                                                                                                                                                                                                                               'Female', 'Male'\n",
       "'native-country'  '?', 'Cambodia', 'Canada', 'China', 'Columbia', 'Cuba', 'Dominican-Republic', 'Ecuador', 'El-Salvador', 'England', 'France', 'Germany', 'Greece', 'Guatemala', 'Haiti', 'Holand-Netherlands', 'Honduras', 'Hong', 'Hungary', 'India', 'Iran', 'Ireland', 'Italy', 'Jamaica', 'Japan', 'Laos', 'Mexico', 'Nicaragua', 'Outlying-US(Guam-USVI-etc)', 'Peru', 'Philippines', 'Poland', 'Portugal', 'Puerto-Rico', 'Scotland', 'South', 'Taiwan', 'Thailand', 'Trinadad&Tobago', 'United-States', 'Vietnam', 'Yugoslavia'\n",
       "'income'                                                                                                                                                                                                                                                                                                                                                                                                                                                                                                                '<=50K', '>50K'"
      ]
     },
     "metadata": {},
     "output_type": "display_data"
    }
   ],
   "source": [
    "# Restrict the range of the `age` feature\n",
    "tfdv.set_domain(schema, 'age', schema_pb2.IntDomain(name='age', min=17, max=90))\n",
    "\n",
    "# Display the modified schema. Notice the `Domain` column of `age`.\n",
    "tfdv.display_schema(schema)"
   ]
  },
  {
   "cell_type": "markdown",
   "metadata": {},
   "source": [
    "With these revisions, running the validation should now show no anomalies."
   ]
  },
  {
   "cell_type": "code",
   "execution_count": 59,
   "metadata": {},
   "outputs": [
    {
     "data": {
      "text/html": [
       "<h4 style=\"color:green;\">No anomalies found.</h4>"
      ],
      "text/plain": [
       "<IPython.core.display.HTML object>"
      ]
     },
     "metadata": {},
     "output_type": "display_data"
    }
   ],
   "source": [
    "# Validate eval stats after updating the schema \n",
    "updated_anomalies = tfdv.validate_statistics(eval_stats, schema)\n",
    "tfdv.display_anomalies(updated_anomalies)"
   ]
  },
  {
   "cell_type": "markdown",
   "metadata": {},
   "source": [
    "## Examining dataset slices\n",
    "\n",
    "TFDV also allows you to analyze specific slices of your dataset. This is particularly useful if you want to inspect if a feature type is well-represented in your dataset. Let's walk through an example where we want to compare the statistics for male and female participants."
   ]
  },
  {
   "cell_type": "markdown",
   "metadata": {},
   "source": [
    "First, you will use the [`get_feature_value_slicer`](https://github.com/tensorflow/data-validation/blob/master/tensorflow_data_validation/utils/slicing_util.py#L48) method from the `slicing_util` to get the features you want to examine. You can specify that by passing a dictionary to the `features` argument. If you want to get the entire domain of a feature, then you can map the feature name with `None` as shown below. This means that you will get slices for both `Male` and `Female` entries. This returns a function that can be used to extract the said feature slice."
   ]
  },
  {
   "cell_type": "code",
   "execution_count": 74,
   "metadata": {},
   "outputs": [],
   "source": [
    "from tensorflow_data_validation.utils import slicing_util\n",
    "\n",
    "# slice_fn = slicing_util.get_feature_value_slicer(features={'sex': None})\n",
    "slice_fn = slicing_util.get_feature_value_slicer(features={'gender': None})\n"
   ]
  },
  {
   "cell_type": "markdown",
   "metadata": {},
   "source": [
    "With the slice function ready, you can now generate the statistics. You need to tell TFDV that you need statistics for the features you set and you can do that through the `slice_functions` argument of [`tfdv.StatsOptions`](https://www.tensorflow.org/tfx/data_validation/api_docs/python/tfdv/StatsOptions). Let's prepare that in the cell below. Notice that you also need to pass in the schema."
   ]
  },
  {
   "cell_type": "code",
   "execution_count": 75,
   "metadata": {},
   "outputs": [],
   "source": [
    "# Declare stats options\n",
    "slice_stats_options = tfdv.StatsOptions(schema=schema,\n",
    "                                        slice_functions=[slice_fn],\n",
    "                                        infer_type_from_schema=True)"
   ]
  },
  {
   "cell_type": "markdown",
   "metadata": {},
   "source": [
    "You will then pass these options to the `generate_statistics_from_csv()` method. As of writing, generating sliced statistics only works for CSVs so you will need to convert the Pandas dataframe to a CSV. Passing the `slice_stats_options` to `generate_statistics_from_dataframe()` will not produce the expected results."
   ]
  },
  {
   "cell_type": "code",
   "execution_count": 76,
   "metadata": {},
   "outputs": [
    {
     "name": "stderr",
     "output_type": "stream",
     "text": [
      "WARNING:root:Make sure that locally built Python SDK docker image has Python 3.8 interpreter.\n"
     ]
    }
   ],
   "source": [
    "# Convert dataframe to CSV since `slice_functions` works only with `tfdv.generate_statistics_from_csv`\n",
    "CSV_PATH = 'slice_sample.csv'\n",
    "train_df.to_csv(CSV_PATH)\n",
    "\n",
    "# Calculate statistics for the sliced dataset\n",
    "sliced_stats = tfdv.generate_statistics_from_csv(CSV_PATH, stats_options=slice_stats_options)"
   ]
  },
  {
   "cell_type": "markdown",
   "metadata": {},
   "source": [
    "With that, you now have the statistics for the set slice. These are packed into a `DatasetFeatureStatisticsList` protocol buffer. You can see the dataset names below. The first element in the list (i.e. index=0) is named `All_Examples` which just contains the statistics for the entire dataset. The next two elements (i.e. named `sex_Male` and `sex_Female`) are the datasets that contain the stats for the slices. It is important to note that these datasets are of the type: `DatasetFeatureStatistics`. You will see why this is important after the cell below."
   ]
  },
  {
   "cell_type": "code",
   "execution_count": 77,
   "metadata": {},
   "outputs": [
    {
     "name": "stdout",
     "output_type": "stream",
     "text": [
      "Datasets generated: ['All Examples', 'gender_Male', 'gender_Female']\n",
      "Type of sliced_stats elements: <class 'tensorflow_metadata.proto.v0.statistics_pb2.DatasetFeatureStatistics'>\n"
     ]
    }
   ],
   "source": [
    "print(f'Datasets generated: {[sliced.name for sliced in sliced_stats.datasets]}')\n",
    "\n",
    "print(f'Type of sliced_stats elements: {type(sliced_stats.datasets[0])}')"
   ]
  },
  {
   "cell_type": "markdown",
   "metadata": {},
   "source": [
    "You can then visualize the statistics as before to examine the slices. An important caveat is `visualize_statistics()` accepts a `DatasetFeatureStatisticsList` type instead of `DatasetFeatureStatistics`. Thus, at least for this version of TFDV, you will need to convert it to the correct type."
   ]
  },
  {
   "cell_type": "code",
   "execution_count": 78,
   "metadata": {},
   "outputs": [
    {
     "data": {
      "text/html": [
       "<iframe id='facets-iframe' width=\"100%\" height=\"500px\"></iframe>\n",
       "        <script>\n",
       "        facets_iframe = document.getElementById('facets-iframe');\n",
       "        facets_html = '<script src=\"https://cdnjs.cloudflare.com/ajax/libs/webcomponentsjs/1.3.3/webcomponents-lite.js\"><\\/script><link rel=\"import\" href=\"https://raw.githubusercontent.com/PAIR-code/facets/master/facets-dist/facets-jupyter.html\"><facets-overview proto-input=\"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\"></facets-overview>';\n",
       "        facets_iframe.srcdoc = facets_html;\n",
       "         facets_iframe.id = \"\";\n",
       "         setTimeout(() => {\n",
       "           facets_iframe.setAttribute('height', facets_iframe.contentWindow.document.body.offsetHeight + 'px')\n",
       "         }, 1500)\n",
       "         </script>"
      ],
      "text/plain": [
       "<IPython.core.display.HTML object>"
      ]
     },
     "metadata": {},
     "output_type": "display_data"
    }
   ],
   "source": [
    "from tensorflow_metadata.proto.v0.statistics_pb2 import DatasetFeatureStatisticsList\n",
    "\n",
    "# Convert `Male` statistics (index=1) to the correct type and get the dataset name\n",
    "male_stats_list = DatasetFeatureStatisticsList()\n",
    "male_stats_list.datasets.extend([sliced_stats.datasets[1]])\n",
    "male_stats_name = sliced_stats.datasets[1].name\n",
    "\n",
    "# Convert `Female` statistics (index=2) to the correct type and get the dataset name\n",
    "female_stats_list = DatasetFeatureStatisticsList()\n",
    "female_stats_list.datasets.extend([sliced_stats.datasets[2]])\n",
    "female_stats_name = sliced_stats.datasets[2].name\n",
    "\n",
    "# Visualize the two slices side by side\n",
    "tfdv.visualize_statistics(\n",
    "    lhs_statistics=male_stats_list,\n",
    "    rhs_statistics=female_stats_list,\n",
    "    lhs_name=male_stats_name,\n",
    "    rhs_name=female_stats_name\n",
    ")"
   ]
  },
  {
   "cell_type": "code",
   "execution_count": 44,
   "metadata": {},
   "outputs": [
    {
     "data": {
      "text/html": [
       "<iframe id='facets-iframe' width=\"100%\" height=\"500px\"></iframe>\n",
       "        <script>\n",
       "        facets_iframe = document.getElementById('facets-iframe');\n",
       "        facets_html = '<script src=\"https://cdnjs.cloudflare.com/ajax/libs/webcomponentsjs/1.3.3/webcomponents-lite.js\"><\\/script><link rel=\"import\" href=\"https://raw.githubusercontent.com/PAIR-code/facets/master/facets-dist/facets-jupyter.html\"><facets-overview proto-input=\"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\"></facets-overview>';\n",
       "        facets_iframe.srcdoc = facets_html;\n",
       "         facets_iframe.id = \"\";\n",
       "         setTimeout(() => {\n",
       "           facets_iframe.setAttribute('height', facets_iframe.contentWindow.document.body.offsetHeight + 'px')\n",
       "         }, 1500)\n",
       "         </script>"
      ],
      "text/plain": [
       "<IPython.core.display.HTML object>"
      ]
     },
     "metadata": {},
     "output_type": "display_data"
    }
   ],
   "source": [
    "from tensorflow_metadata.proto.v0.statistics_pb2 import DatasetFeatureStatisticsList\n",
    "\n",
    "# Convert `Male` statistics (index=1) to the correct type and get the dataset name\n",
    "male_stats_list = DatasetFeatureStatisticsList()\n",
    "male_stats_list.datasets.extend([sliced_stats.datasets[1]])\n",
    "male_stats_name = sliced_stats.datasets[1].name\n",
    "\n",
    "# Convert `Female` statistics (index=2) to the correct type and get the dataset name\n",
    "female_stats_list = DatasetFeatureStatisticsList()\n",
    "female_stats_list.datasets.extend([sliced_stats.datasets[2]])\n",
    "female_stats_name = sliced_stats.datasets[2].name\n",
    "\n",
    "# Visualize the two slices side by side\n",
    "tfdv.visualize_statistics(\n",
    "    lhs_statistics=male_stats_list,\n",
    "    rhs_statistics=female_stats_list,\n",
    "    lhs_name=male_stats_name,\n",
    "    rhs_name=female_stats_name\n",
    ")"
   ]
  },
  {
   "cell_type": "markdown",
   "metadata": {},
   "source": [
    "You should now see the visualization of the two slices and you can compare how they are represented in the dataset. \n",
    "\n",
    "We encourage you to go back to the beginning of this section and try different slices. Here are other ways you can explore:\n",
    "\n",
    "* If you want to be more specific, then you can map the specific value to the feature name. For example, if you want just `Male`, then you can declare it as `features={'sex': [b'Male']}`. Notice that the string literal needs to be passed in as bytes with the `b'` prefix.\n",
    "\n",
    "* You can also pass in several features if you want. For example, if you want to slice through both the `sex` and `race` features, then you can do `features={'sex': None, 'race': None}`.\n",
    "\n",
    "You might find it cumbersome or inefficient to redo the whole process for a particular slice. For that, you can make helper functions to streamline the type conversions and you will see one implementation in this week's assignment."
   ]
  },
  {
   "cell_type": "markdown",
   "metadata": {
    "id": "YY812jDDgPU3"
   },
   "source": [
    "## Wrap up\n",
    "\n",
    "This exercise demonstrated how you would use Tensorflow Data Validation in a machine learning project.\n",
    "\n",
    "* It allows you to scale the computation of statistics over datasets.\n",
    "\n",
    "* You can infer the schema of a given dataset and revise it based on your domain knowledge. \n",
    "\n",
    "* You can inspect discrepancies between the training and evaluation datasets by visualizing the statistics and detecting anomalies.\n",
    "\n",
    "* You can analyze specific slices of your dataset.\n",
    "\n",
    "You can consult this notebook in this week's programming assignment as well as these additional resources:\n",
    "\n",
    "* [TFDV Guide](https://www.tensorflow.org/tfx/data_validation/get_started) \n",
    "* [TFDV blog post](https://blog.tensorflow.org/2018/09/introducing-tensorflow-data-validation.html)\n",
    "* [Tensorflow Official Tutorial](https://colab.research.google.com/github/tensorflow/tfx/blob/master/docs/tutorials/data_validation/tfdv_basic.ipynb#scrollTo=mPt5BHTwy_0F)\n",
    "* [API Docs](https://www.tensorflow.org/tfx/data_validation/api_docs/python/tfdv)"
   ]
  }
 ],
 "metadata": {
  "colab": {
   "collapsed_sections": [],
   "name": "C2_W1_Lab_1_TFDV_Exercise.ipynb",
   "provenance": []
  },
  "kernelspec": {
   "display_name": "Python 3",
   "language": "python",
   "name": "python3"
  },
  "language_info": {
   "codemirror_mode": {
    "name": "ipython",
    "version": 3
   },
   "file_extension": ".py",
   "mimetype": "text/x-python",
   "name": "python",
   "nbconvert_exporter": "python",
   "pygments_lexer": "ipython3",
   "version": "3.8.11"
  }
 },
 "nbformat": 4,
 "nbformat_minor": 1
}
